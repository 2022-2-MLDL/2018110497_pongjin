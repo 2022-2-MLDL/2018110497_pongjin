{
  "nbformat": 4,
  "nbformat_minor": 0,
  "metadata": {
    "colab": {
      "provenance": []
    },
    "kernelspec": {
      "name": "python3",
      "display_name": "Python 3"
    },
    "language_info": {
      "name": "python"
    }
  },
  "cells": [
    {
      "cell_type": "code",
      "source": [
        "# 공통 모듈 임포트\n",
        "import os\n",
        "\n",
        "# 깔끔한 그래프 출력을 위해\n",
        "%matplotlib inline\n",
        "import matplotlib as mpl\n",
        "import matplotlib.pyplot as plt\n",
        "mpl.rc('axes', labelsize=14)\n",
        "mpl.rc('xtick', labelsize=12)\n",
        "mpl.rc('ytick', labelsize=12)\n",
        "\n",
        "# 그림을 저장할 위치\n",
        "PROJECT_ROOT_DIR = \".\"\n",
        "CHAPTER_ID = \"decision_trees\"\n",
        "IMAGES_PATH = os.path.join(PROJECT_ROOT_DIR, \"images\", CHAPTER_ID)\n",
        "os.makedirs(IMAGES_PATH, exist_ok=True)"
      ],
      "metadata": {
        "id": "Z88PFmwfd0x-"
      },
      "execution_count": null,
      "outputs": []
    },
    {
      "cell_type": "code",
      "execution_count": null,
      "metadata": {
        "id": "jmlMbhtgqx3Z"
      },
      "outputs": [],
      "source": [
        "import pandas as pd\n",
        "import numpy as np\n",
        "import seaborn as sns\n",
        "import matplotlib.pyplot as plt\n",
        "from matplotlib import rc\n",
        "#!sudo apt-get install -y fonts-nanum\n",
        "#!sudo fc-cache -fv\n",
        "#!rm ~/.cache/matplotlib -rf\n",
        "plt.rc('font', family='NanumBarunGothic')"
      ]
    },
    {
      "cell_type": "markdown",
      "source": [
        "# EDA"
      ],
      "metadata": {
        "id": "n96I-jY6j0e9"
      }
    },
    {
      "cell_type": "code",
      "source": [
        "data = pd.read_csv('/content/drive/MyDrive/project_data.csv',index_col=0 )\n",
        "data.head()"
      ],
      "metadata": {
        "colab": {
          "base_uri": "https://localhost:8080/",
          "height": 233
        },
        "id": "zQncbg0mq7VD",
        "outputId": "38000a3c-10fa-4031-986b-5bf51d5e5930"
      },
      "execution_count": null,
      "outputs": [
        {
          "output_type": "execute_result",
          "data": {
            "text/plain": [
              "                                 ELMO2  CREB3L1     RPS11    PNMA1      MMP2  \\\n",
              "TCGA-A2-A0CT-01A-31R-A056-07  0.744583 -0.45525  0.025250  0.95775 -0.118000   \n",
              "TCGA-BH-A1EO-01A-11R-A137-07  0.242000  1.06025  0.852750  0.58275  1.862167   \n",
              "TCGA-BH-A0AW-01A-11R-A056-07  0.078333  1.72000  0.971875 -0.21925  0.505000   \n",
              "TCGA-B6-A0RM-01A-11R-A084-07  0.475833 -0.03800  0.358625  1.31975 -0.962333   \n",
              "TCGA-A8-A08T-01A-21R-A00Z-07 -0.343083  0.79425  0.739500  0.28400 -0.435833   \n",
              "\n",
              "                              C10orf90      ZHX3    ERCC5     GPR98   RXFP3  \\\n",
              "TCGA-A2-A0CT-01A-31R-A056-07  -2.38775  0.071167 -1.14300 -0.712000  0.0340   \n",
              "TCGA-BH-A1EO-01A-11R-A137-07  -2.99325 -0.205333 -0.27475 -1.743125  0.4170   \n",
              "TCGA-BH-A0AW-01A-11R-A056-07  -2.50150 -0.059500 -0.10550 -0.155500  1.3965   \n",
              "TCGA-B6-A0RM-01A-11R-A084-07  -2.23100 -0.018667 -0.02400  0.598000  0.3830   \n",
              "TCGA-A8-A08T-01A-21R-A00Z-07  -2.15350 -0.027000  0.31200 -0.472000  0.3090   \n",
              "\n",
              "                              ...    GRIP2     GPLD1   RAB8A   RXFP2  PIK3IP1  \\\n",
              "TCGA-A2-A0CT-01A-31R-A056-07  ... -0.50475  0.031000  0.6257  0.4925  2.75750   \n",
              "TCGA-BH-A1EO-01A-11R-A137-07  ... -0.13925 -1.868167 -0.3721 -0.8860  2.66400   \n",
              "TCGA-BH-A0AW-01A-11R-A056-07  ... -0.25200 -2.069500  0.6405 -0.0875  2.08150   \n",
              "TCGA-B6-A0RM-01A-11R-A084-07  ...  0.11525 -0.865000  0.8152 -0.5630  2.19325   \n",
              "TCGA-A8-A08T-01A-21R-A00Z-07  ... -0.60025 -0.253167 -0.1949  0.3805  2.55125   \n",
              "\n",
              "                              SLC39A6  SNRPD2   AQP7    CTSC  label  \n",
              "TCGA-A2-A0CT-01A-31R-A056-07   1.4367  0.4401 -1.063 -1.0589      1  \n",
              "TCGA-BH-A1EO-01A-11R-A137-07  -0.4504  0.5558  0.038  0.7616      1  \n",
              "TCGA-BH-A0AW-01A-11R-A056-07  -1.6684  1.1117 -0.142  0.4646      1  \n",
              "TCGA-B6-A0RM-01A-11R-A084-07   2.6014  0.0516 -0.590 -0.5362      1  \n",
              "TCGA-A8-A08T-01A-21R-A00Z-07   2.4050 -0.0548 -0.964 -0.4635      1  \n",
              "\n",
              "[5 rows x 17815 columns]"
            ],
            "text/html": [
              "\n",
              "  <div id=\"df-27f05443-214a-47ce-ba44-8fb50da3b349\">\n",
              "    <div class=\"colab-df-container\">\n",
              "      <div>\n",
              "<style scoped>\n",
              "    .dataframe tbody tr th:only-of-type {\n",
              "        vertical-align: middle;\n",
              "    }\n",
              "\n",
              "    .dataframe tbody tr th {\n",
              "        vertical-align: top;\n",
              "    }\n",
              "\n",
              "    .dataframe thead th {\n",
              "        text-align: right;\n",
              "    }\n",
              "</style>\n",
              "<table border=\"1\" class=\"dataframe\">\n",
              "  <thead>\n",
              "    <tr style=\"text-align: right;\">\n",
              "      <th></th>\n",
              "      <th>ELMO2</th>\n",
              "      <th>CREB3L1</th>\n",
              "      <th>RPS11</th>\n",
              "      <th>PNMA1</th>\n",
              "      <th>MMP2</th>\n",
              "      <th>C10orf90</th>\n",
              "      <th>ZHX3</th>\n",
              "      <th>ERCC5</th>\n",
              "      <th>GPR98</th>\n",
              "      <th>RXFP3</th>\n",
              "      <th>...</th>\n",
              "      <th>GRIP2</th>\n",
              "      <th>GPLD1</th>\n",
              "      <th>RAB8A</th>\n",
              "      <th>RXFP2</th>\n",
              "      <th>PIK3IP1</th>\n",
              "      <th>SLC39A6</th>\n",
              "      <th>SNRPD2</th>\n",
              "      <th>AQP7</th>\n",
              "      <th>CTSC</th>\n",
              "      <th>label</th>\n",
              "    </tr>\n",
              "  </thead>\n",
              "  <tbody>\n",
              "    <tr>\n",
              "      <th>TCGA-A2-A0CT-01A-31R-A056-07</th>\n",
              "      <td>0.744583</td>\n",
              "      <td>-0.45525</td>\n",
              "      <td>0.025250</td>\n",
              "      <td>0.95775</td>\n",
              "      <td>-0.118000</td>\n",
              "      <td>-2.38775</td>\n",
              "      <td>0.071167</td>\n",
              "      <td>-1.14300</td>\n",
              "      <td>-0.712000</td>\n",
              "      <td>0.0340</td>\n",
              "      <td>...</td>\n",
              "      <td>-0.50475</td>\n",
              "      <td>0.031000</td>\n",
              "      <td>0.6257</td>\n",
              "      <td>0.4925</td>\n",
              "      <td>2.75750</td>\n",
              "      <td>1.4367</td>\n",
              "      <td>0.4401</td>\n",
              "      <td>-1.063</td>\n",
              "      <td>-1.0589</td>\n",
              "      <td>1</td>\n",
              "    </tr>\n",
              "    <tr>\n",
              "      <th>TCGA-BH-A1EO-01A-11R-A137-07</th>\n",
              "      <td>0.242000</td>\n",
              "      <td>1.06025</td>\n",
              "      <td>0.852750</td>\n",
              "      <td>0.58275</td>\n",
              "      <td>1.862167</td>\n",
              "      <td>-2.99325</td>\n",
              "      <td>-0.205333</td>\n",
              "      <td>-0.27475</td>\n",
              "      <td>-1.743125</td>\n",
              "      <td>0.4170</td>\n",
              "      <td>...</td>\n",
              "      <td>-0.13925</td>\n",
              "      <td>-1.868167</td>\n",
              "      <td>-0.3721</td>\n",
              "      <td>-0.8860</td>\n",
              "      <td>2.66400</td>\n",
              "      <td>-0.4504</td>\n",
              "      <td>0.5558</td>\n",
              "      <td>0.038</td>\n",
              "      <td>0.7616</td>\n",
              "      <td>1</td>\n",
              "    </tr>\n",
              "    <tr>\n",
              "      <th>TCGA-BH-A0AW-01A-11R-A056-07</th>\n",
              "      <td>0.078333</td>\n",
              "      <td>1.72000</td>\n",
              "      <td>0.971875</td>\n",
              "      <td>-0.21925</td>\n",
              "      <td>0.505000</td>\n",
              "      <td>-2.50150</td>\n",
              "      <td>-0.059500</td>\n",
              "      <td>-0.10550</td>\n",
              "      <td>-0.155500</td>\n",
              "      <td>1.3965</td>\n",
              "      <td>...</td>\n",
              "      <td>-0.25200</td>\n",
              "      <td>-2.069500</td>\n",
              "      <td>0.6405</td>\n",
              "      <td>-0.0875</td>\n",
              "      <td>2.08150</td>\n",
              "      <td>-1.6684</td>\n",
              "      <td>1.1117</td>\n",
              "      <td>-0.142</td>\n",
              "      <td>0.4646</td>\n",
              "      <td>1</td>\n",
              "    </tr>\n",
              "    <tr>\n",
              "      <th>TCGA-B6-A0RM-01A-11R-A084-07</th>\n",
              "      <td>0.475833</td>\n",
              "      <td>-0.03800</td>\n",
              "      <td>0.358625</td>\n",
              "      <td>1.31975</td>\n",
              "      <td>-0.962333</td>\n",
              "      <td>-2.23100</td>\n",
              "      <td>-0.018667</td>\n",
              "      <td>-0.02400</td>\n",
              "      <td>0.598000</td>\n",
              "      <td>0.3830</td>\n",
              "      <td>...</td>\n",
              "      <td>0.11525</td>\n",
              "      <td>-0.865000</td>\n",
              "      <td>0.8152</td>\n",
              "      <td>-0.5630</td>\n",
              "      <td>2.19325</td>\n",
              "      <td>2.6014</td>\n",
              "      <td>0.0516</td>\n",
              "      <td>-0.590</td>\n",
              "      <td>-0.5362</td>\n",
              "      <td>1</td>\n",
              "    </tr>\n",
              "    <tr>\n",
              "      <th>TCGA-A8-A08T-01A-21R-A00Z-07</th>\n",
              "      <td>-0.343083</td>\n",
              "      <td>0.79425</td>\n",
              "      <td>0.739500</td>\n",
              "      <td>0.28400</td>\n",
              "      <td>-0.435833</td>\n",
              "      <td>-2.15350</td>\n",
              "      <td>-0.027000</td>\n",
              "      <td>0.31200</td>\n",
              "      <td>-0.472000</td>\n",
              "      <td>0.3090</td>\n",
              "      <td>...</td>\n",
              "      <td>-0.60025</td>\n",
              "      <td>-0.253167</td>\n",
              "      <td>-0.1949</td>\n",
              "      <td>0.3805</td>\n",
              "      <td>2.55125</td>\n",
              "      <td>2.4050</td>\n",
              "      <td>-0.0548</td>\n",
              "      <td>-0.964</td>\n",
              "      <td>-0.4635</td>\n",
              "      <td>1</td>\n",
              "    </tr>\n",
              "  </tbody>\n",
              "</table>\n",
              "<p>5 rows × 17815 columns</p>\n",
              "</div>\n",
              "      <button class=\"colab-df-convert\" onclick=\"convertToInteractive('df-27f05443-214a-47ce-ba44-8fb50da3b349')\"\n",
              "              title=\"Convert this dataframe to an interactive table.\"\n",
              "              style=\"display:none;\">\n",
              "        \n",
              "  <svg xmlns=\"http://www.w3.org/2000/svg\" height=\"24px\"viewBox=\"0 0 24 24\"\n",
              "       width=\"24px\">\n",
              "    <path d=\"M0 0h24v24H0V0z\" fill=\"none\"/>\n",
              "    <path d=\"M18.56 5.44l.94 2.06.94-2.06 2.06-.94-2.06-.94-.94-2.06-.94 2.06-2.06.94zm-11 1L8.5 8.5l.94-2.06 2.06-.94-2.06-.94L8.5 2.5l-.94 2.06-2.06.94zm10 10l.94 2.06.94-2.06 2.06-.94-2.06-.94-.94-2.06-.94 2.06-2.06.94z\"/><path d=\"M17.41 7.96l-1.37-1.37c-.4-.4-.92-.59-1.43-.59-.52 0-1.04.2-1.43.59L10.3 9.45l-7.72 7.72c-.78.78-.78 2.05 0 2.83L4 21.41c.39.39.9.59 1.41.59.51 0 1.02-.2 1.41-.59l7.78-7.78 2.81-2.81c.8-.78.8-2.07 0-2.86zM5.41 20L4 18.59l7.72-7.72 1.47 1.35L5.41 20z\"/>\n",
              "  </svg>\n",
              "      </button>\n",
              "      \n",
              "  <style>\n",
              "    .colab-df-container {\n",
              "      display:flex;\n",
              "      flex-wrap:wrap;\n",
              "      gap: 12px;\n",
              "    }\n",
              "\n",
              "    .colab-df-convert {\n",
              "      background-color: #E8F0FE;\n",
              "      border: none;\n",
              "      border-radius: 50%;\n",
              "      cursor: pointer;\n",
              "      display: none;\n",
              "      fill: #1967D2;\n",
              "      height: 32px;\n",
              "      padding: 0 0 0 0;\n",
              "      width: 32px;\n",
              "    }\n",
              "\n",
              "    .colab-df-convert:hover {\n",
              "      background-color: #E2EBFA;\n",
              "      box-shadow: 0px 1px 2px rgba(60, 64, 67, 0.3), 0px 1px 3px 1px rgba(60, 64, 67, 0.15);\n",
              "      fill: #174EA6;\n",
              "    }\n",
              "\n",
              "    [theme=dark] .colab-df-convert {\n",
              "      background-color: #3B4455;\n",
              "      fill: #D2E3FC;\n",
              "    }\n",
              "\n",
              "    [theme=dark] .colab-df-convert:hover {\n",
              "      background-color: #434B5C;\n",
              "      box-shadow: 0px 1px 3px 1px rgba(0, 0, 0, 0.15);\n",
              "      filter: drop-shadow(0px 1px 2px rgba(0, 0, 0, 0.3));\n",
              "      fill: #FFFFFF;\n",
              "    }\n",
              "  </style>\n",
              "\n",
              "      <script>\n",
              "        const buttonEl =\n",
              "          document.querySelector('#df-27f05443-214a-47ce-ba44-8fb50da3b349 button.colab-df-convert');\n",
              "        buttonEl.style.display =\n",
              "          google.colab.kernel.accessAllowed ? 'block' : 'none';\n",
              "\n",
              "        async function convertToInteractive(key) {\n",
              "          const element = document.querySelector('#df-27f05443-214a-47ce-ba44-8fb50da3b349');\n",
              "          const dataTable =\n",
              "            await google.colab.kernel.invokeFunction('convertToInteractive',\n",
              "                                                     [key], {});\n",
              "          if (!dataTable) return;\n",
              "\n",
              "          const docLinkHtml = 'Like what you see? Visit the ' +\n",
              "            '<a target=\"_blank\" href=https://colab.research.google.com/notebooks/data_table.ipynb>data table notebook</a>'\n",
              "            + ' to learn more about interactive tables.';\n",
              "          element.innerHTML = '';\n",
              "          dataTable['output_type'] = 'display_data';\n",
              "          await google.colab.output.renderOutput(dataTable, element);\n",
              "          const docLink = document.createElement('div');\n",
              "          docLink.innerHTML = docLinkHtml;\n",
              "          element.appendChild(docLink);\n",
              "        }\n",
              "      </script>\n",
              "    </div>\n",
              "  </div>\n",
              "  "
            ]
          },
          "metadata": {},
          "execution_count": 31
        }
      ]
    },
    {
      "cell_type": "code",
      "source": [
        "data.shape"
      ],
      "metadata": {
        "colab": {
          "base_uri": "https://localhost:8080/"
        },
        "id": "u7ALqKcGzuz6",
        "outputId": "0c8fc09e-680d-4ccb-d9a6-e74d709d2c47"
      },
      "execution_count": null,
      "outputs": [
        {
          "output_type": "execute_result",
          "data": {
            "text/plain": [
              "(590, 17815)"
            ]
          },
          "metadata": {},
          "execution_count": 32
        }
      ]
    },
    {
      "cell_type": "markdown",
      "source": [
        "## 데이터 이상치 확인"
      ],
      "metadata": {
        "id": "aKYdhyKdPetb"
      }
    },
    {
      "cell_type": "code",
      "source": [
        "plt.hist(data.kurtosis())\n",
        "plt.title('첨도')\n",
        "plt.show()"
      ],
      "metadata": {
        "colab": {
          "base_uri": "https://localhost:8080/",
          "height": 282
        },
        "id": "OaITO1Zd4v11",
        "outputId": "1950772c-65f6-44ec-9cb5-2d671351008d"
      },
      "execution_count": null,
      "outputs": [
        {
          "output_type": "display_data",
          "data": {
            "text/plain": [
              "<Figure size 432x288 with 1 Axes>"
            ],
            "image/png": "[encoded data removed]"
          },
          "metadata": {
            "needs_background": "light"
          }
        }
      ]
    },
    {
      "cell_type": "code",
      "source": [
        "# 첨도가 100 이상인 데이터 확인\n",
        "kt = data.kurtosis() > 100\n",
        "data.loc[:,kt]"
      ],
      "metadata": {
        "colab": {
          "base_uri": "https://localhost:8080/",
          "height": 419
        },
        "id": "Lwe4Njg-5KGD",
        "outputId": "b9b26d1b-b5f0-4bc0-9109-386932645666"
      },
      "execution_count": null,
      "outputs": [
        {
          "output_type": "execute_result",
          "data": {
            "text/plain": [
              "                                HCRT     PRM1    LENG8   TBC1D21\n",
              "TCGA-A2-A0CT-01A-31R-A056-07 -0.2240 -0.30525  0.17300  0.238500\n",
              "TCGA-BH-A1EO-01A-11R-A137-07  0.1185 -0.11425  0.03000  0.162167\n",
              "TCGA-BH-A0AW-01A-11R-A056-07  0.1120 -0.34350  0.39700  0.136500\n",
              "TCGA-B6-A0RM-01A-11R-A084-07  0.0105 -0.30775 -0.03450  0.316167\n",
              "TCGA-A8-A08T-01A-21R-A00Z-07 -0.0710 -0.63325  0.18425 -0.054000\n",
              "...                              ...      ...      ...       ...\n",
              "TCGA-B6-A0RO-01A-22R-A084-07 -0.3260 -0.27525 -0.21300  0.215833\n",
              "TCGA-E2-A15G-01A-11R-A12D-07 -0.1925 -0.50600 -0.23675 -0.276000\n",
              "TCGA-BH-A0W7-01A-11R-A115-07 -0.3690 -0.14375 -0.48900  0.124167\n",
              "TCGA-BH-A0BM-11A-12R-A089-07 -0.4615  0.03900 -0.13575 -0.109167\n",
              "TCGA-BH-A0HP-01A-12R-A084-07 -0.1865 -0.23750 -0.18850  0.414500\n",
              "\n",
              "[590 rows x 4 columns]"
            ],
            "text/html": [
              "\n",
              "  <div id=\"df-669d3ff7-2e3a-4673-84c3-ad7d7daf4805\">\n",
              "    <div class=\"colab-df-container\">\n",
              "      <div>\n",
              "<style scoped>\n",
              "    .dataframe tbody tr th:only-of-type {\n",
              "        vertical-align: middle;\n",
              "    }\n",
              "\n",
              "    .dataframe tbody tr th {\n",
              "        vertical-align: top;\n",
              "    }\n",
              "\n",
              "    .dataframe thead th {\n",
              "        text-align: right;\n",
              "    }\n",
              "</style>\n",
              "<table border=\"1\" class=\"dataframe\">\n",
              "  <thead>\n",
              "    <tr style=\"text-align: right;\">\n",
              "      <th></th>\n",
              "      <th>HCRT</th>\n",
              "      <th>PRM1</th>\n",
              "      <th>LENG8</th>\n",
              "      <th>TBC1D21</th>\n",
              "    </tr>\n",
              "  </thead>\n",
              "  <tbody>\n",
              "    <tr>\n",
              "      <th>TCGA-A2-A0CT-01A-31R-A056-07</th>\n",
              "      <td>-0.2240</td>\n",
              "      <td>-0.30525</td>\n",
              "      <td>0.17300</td>\n",
              "      <td>0.238500</td>\n",
              "    </tr>\n",
              "    <tr>\n",
              "      <th>TCGA-BH-A1EO-01A-11R-A137-07</th>\n",
              "      <td>0.1185</td>\n",
              "      <td>-0.11425</td>\n",
              "      <td>0.03000</td>\n",
              "      <td>0.162167</td>\n",
              "    </tr>\n",
              "    <tr>\n",
              "      <th>TCGA-BH-A0AW-01A-11R-A056-07</th>\n",
              "      <td>0.1120</td>\n",
              "      <td>-0.34350</td>\n",
              "      <td>0.39700</td>\n",
              "      <td>0.136500</td>\n",
              "    </tr>\n",
              "    <tr>\n",
              "      <th>TCGA-B6-A0RM-01A-11R-A084-07</th>\n",
              "      <td>0.0105</td>\n",
              "      <td>-0.30775</td>\n",
              "      <td>-0.03450</td>\n",
              "      <td>0.316167</td>\n",
              "    </tr>\n",
              "    <tr>\n",
              "      <th>TCGA-A8-A08T-01A-21R-A00Z-07</th>\n",
              "      <td>-0.0710</td>\n",
              "      <td>-0.63325</td>\n",
              "      <td>0.18425</td>\n",
              "      <td>-0.054000</td>\n",
              "    </tr>\n",
              "    <tr>\n",
              "      <th>...</th>\n",
              "      <td>...</td>\n",
              "      <td>...</td>\n",
              "      <td>...</td>\n",
              "      <td>...</td>\n",
              "    </tr>\n",
              "    <tr>\n",
              "      <th>TCGA-B6-A0RO-01A-22R-A084-07</th>\n",
              "      <td>-0.3260</td>\n",
              "      <td>-0.27525</td>\n",
              "      <td>-0.21300</td>\n",
              "      <td>0.215833</td>\n",
              "    </tr>\n",
              "    <tr>\n",
              "      <th>TCGA-E2-A15G-01A-11R-A12D-07</th>\n",
              "      <td>-0.1925</td>\n",
              "      <td>-0.50600</td>\n",
              "      <td>-0.23675</td>\n",
              "      <td>-0.276000</td>\n",
              "    </tr>\n",
              "    <tr>\n",
              "      <th>TCGA-BH-A0W7-01A-11R-A115-07</th>\n",
              "      <td>-0.3690</td>\n",
              "      <td>-0.14375</td>\n",
              "      <td>-0.48900</td>\n",
              "      <td>0.124167</td>\n",
              "    </tr>\n",
              "    <tr>\n",
              "      <th>TCGA-BH-A0BM-11A-12R-A089-07</th>\n",
              "      <td>-0.4615</td>\n",
              "      <td>0.03900</td>\n",
              "      <td>-0.13575</td>\n",
              "      <td>-0.109167</td>\n",
              "    </tr>\n",
              "    <tr>\n",
              "      <th>TCGA-BH-A0HP-01A-12R-A084-07</th>\n",
              "      <td>-0.1865</td>\n",
              "      <td>-0.23750</td>\n",
              "      <td>-0.18850</td>\n",
              "      <td>0.414500</td>\n",
              "    </tr>\n",
              "  </tbody>\n",
              "</table>\n",
              "<p>590 rows × 4 columns</p>\n",
              "</div>\n",
              "      <button class=\"colab-df-convert\" onclick=\"convertToInteractive('df-669d3ff7-2e3a-4673-84c3-ad7d7daf4805')\"\n",
              "              title=\"Convert this dataframe to an interactive table.\"\n",
              "              style=\"display:none;\">\n",
              "        \n",
              "  <svg xmlns=\"http://www.w3.org/2000/svg\" height=\"24px\"viewBox=\"0 0 24 24\"\n",
              "       width=\"24px\">\n",
              "    <path d=\"M0 0h24v24H0V0z\" fill=\"none\"/>\n",
              "    <path d=\"M18.56 5.44l.94 2.06.94-2.06 2.06-.94-2.06-.94-.94-2.06-.94 2.06-2.06.94zm-11 1L8.5 8.5l.94-2.06 2.06-.94-2.06-.94L8.5 2.5l-.94 2.06-2.06.94zm10 10l.94 2.06.94-2.06 2.06-.94-2.06-.94-.94-2.06-.94 2.06-2.06.94z\"/><path d=\"M17.41 7.96l-1.37-1.37c-.4-.4-.92-.59-1.43-.59-.52 0-1.04.2-1.43.59L10.3 9.45l-7.72 7.72c-.78.78-.78 2.05 0 2.83L4 21.41c.39.39.9.59 1.41.59.51 0 1.02-.2 1.41-.59l7.78-7.78 2.81-2.81c.8-.78.8-2.07 0-2.86zM5.41 20L4 18.59l7.72-7.72 1.47 1.35L5.41 20z\"/>\n",
              "  </svg>\n",
              "      </button>\n",
              "      \n",
              "  <style>\n",
              "    .colab-df-container {\n",
              "      display:flex;\n",
              "      flex-wrap:wrap;\n",
              "      gap: 12px;\n",
              "    }\n",
              "\n",
              "    .colab-df-convert {\n",
              "      background-color: #E8F0FE;\n",
              "      border: none;\n",
              "      border-radius: 50%;\n",
              "      cursor: pointer;\n",
              "      display: none;\n",
              "      fill: #1967D2;\n",
              "      height: 32px;\n",
              "      padding: 0 0 0 0;\n",
              "      width: 32px;\n",
              "    }\n",
              "\n",
              "    .colab-df-convert:hover {\n",
              "      background-color: #E2EBFA;\n",
              "      box-shadow: 0px 1px 2px rgba(60, 64, 67, 0.3), 0px 1px 3px 1px rgba(60, 64, 67, 0.15);\n",
              "      fill: #174EA6;\n",
              "    }\n",
              "\n",
              "    [theme=dark] .colab-df-convert {\n",
              "      background-color: #3B4455;\n",
              "      fill: #D2E3FC;\n",
              "    }\n",
              "\n",
              "    [theme=dark] .colab-df-convert:hover {\n",
              "      background-color: #434B5C;\n",
              "      box-shadow: 0px 1px 3px 1px rgba(0, 0, 0, 0.15);\n",
              "      filter: drop-shadow(0px 1px 2px rgba(0, 0, 0, 0.3));\n",
              "      fill: #FFFFFF;\n",
              "    }\n",
              "  </style>\n",
              "\n",
              "      <script>\n",
              "        const buttonEl =\n",
              "          document.querySelector('#df-669d3ff7-2e3a-4673-84c3-ad7d7daf4805 button.colab-df-convert');\n",
              "        buttonEl.style.display =\n",
              "          google.colab.kernel.accessAllowed ? 'block' : 'none';\n",
              "\n",
              "        async function convertToInteractive(key) {\n",
              "          const element = document.querySelector('#df-669d3ff7-2e3a-4673-84c3-ad7d7daf4805');\n",
              "          const dataTable =\n",
              "            await google.colab.kernel.invokeFunction('convertToInteractive',\n",
              "                                                     [key], {});\n",
              "          if (!dataTable) return;\n",
              "\n",
              "          const docLinkHtml = 'Like what you see? Visit the ' +\n",
              "            '<a target=\"_blank\" href=https://colab.research.google.com/notebooks/data_table.ipynb>data table notebook</a>'\n",
              "            + ' to learn more about interactive tables.';\n",
              "          element.innerHTML = '';\n",
              "          dataTable['output_type'] = 'display_data';\n",
              "          await google.colab.output.renderOutput(dataTable, element);\n",
              "          const docLink = document.createElement('div');\n",
              "          docLink.innerHTML = docLinkHtml;\n",
              "          element.appendChild(docLink);\n",
              "        }\n",
              "      </script>\n",
              "    </div>\n",
              "  </div>\n",
              "  "
            ]
          },
          "metadata": {},
          "execution_count": 34
        }
      ]
    },
    {
      "cell_type": "code",
      "source": [
        "plt.figure(figsize=(8,8))\n",
        "for i,d in enumerate(data.loc[:,kt].columns):\n",
        "    plt.subplot(2,2,i+1)\n",
        "    plt.hist(data[d])\n",
        "    plt.title(d) #분포 상 이상 없음"
      ],
      "metadata": {
        "colab": {
          "base_uri": "https://localhost:8080/",
          "height": 500
        },
        "id": "Yo0-o8CA56YQ",
        "outputId": "5827b9b5-b872-43ee-af57-e4de5a746644"
      },
      "execution_count": null,
      "outputs": [
        {
          "output_type": "display_data",
          "data": {
            "text/plain": [
              "<Figure size 576x576 with 4 Axes>"
            ],
            "image/png": "[encoded data removed]"
          },
          "metadata": {
            "needs_background": "light"
          }
        }
      ]
    },
    {
      "cell_type": "code",
      "source": [
        "#HCRT\tPRM1\tLENG8\tTBC1D21\n",
        "data.loc[(data['HCRT'] > 4) |  (data['PRM1'] > 4) | (data['LENG8'] > 4) | (data['TBC1D21'] > 4), ] #양성 음성 둘다 있음"
      ],
      "metadata": {
        "colab": {
          "base_uri": "https://localhost:8080/",
          "height": 171
        },
        "id": "vFO809SU6QQZ",
        "outputId": "c68ffd2d-d7e3-4d93-dd05-287c3b2bf4ed"
      },
      "execution_count": null,
      "outputs": [
        {
          "output_type": "execute_result",
          "data": {
            "text/plain": [
              "                                 ELMO2  CREB3L1     RPS11    PNMA1      MMP2  \\\n",
              "TCGA-AN-A0AR-01A-11R-A00Z-07 -0.144833 -0.66525  1.267750  0.39600 -0.976500   \n",
              "TCGA-AO-A0JL-01A-11R-A056-07 -0.280333  1.20875  0.460500 -0.85600 -0.300000   \n",
              "TCGA-E2-A153-11A-31R-A12D-07 -0.270818  2.66750  2.191125 -0.99675  3.825667   \n",
              "\n",
              "                              C10orf90      ZHX3    ERCC5     GPR98   RXFP3  \\\n",
              "TCGA-AN-A0AR-01A-11R-A00Z-07  1.067250 -0.354833  0.45650  0.164875  0.5385   \n",
              "TCGA-AO-A0JL-01A-11R-A056-07  1.714500  0.596833 -0.19825 -1.541125  1.1900   \n",
              "TCGA-E2-A153-11A-31R-A12D-07  1.371667 -0.860333 -1.40375  0.208250  3.9070   \n",
              "\n",
              "                              ...    GRIP2     GPLD1   RAB8A  RXFP2  PIK3IP1  \\\n",
              "TCGA-AN-A0AR-01A-11R-A00Z-07  ... -0.07275 -0.422000  0.3301  0.430  0.82350   \n",
              "TCGA-AO-A0JL-01A-11R-A056-07  ... -1.74100 -1.091667 -0.0773  1.038 -0.74825   \n",
              "TCGA-E2-A153-11A-31R-A12D-07  ...  1.20100  1.516667 -0.0346  0.189  1.78125   \n",
              "\n",
              "                              SLC39A6  SNRPD2    AQP7    CTSC  label  \n",
              "TCGA-AN-A0AR-01A-11R-A00Z-07  -0.8804  0.5444 -0.1745  1.5650      1  \n",
              "TCGA-AO-A0JL-01A-11R-A056-07  -2.8591  0.2309 -0.5260 -0.8582      1  \n",
              "TCGA-E2-A153-11A-31R-A12D-07  -2.2335  1.8620  1.4320  1.6107      0  \n",
              "\n",
              "[3 rows x 17815 columns]"
            ],
            "text/html": [
              "\n",
              "  <div id=\"df-3cef588d-0510-4786-a95c-3dac14dd2efa\">\n",
              "    <div class=\"colab-df-container\">\n",
              "      <div>\n",
              "<style scoped>\n",
              "    .dataframe tbody tr th:only-of-type {\n",
              "        vertical-align: middle;\n",
              "    }\n",
              "\n",
              "    .dataframe tbody tr th {\n",
              "        vertical-align: top;\n",
              "    }\n",
              "\n",
              "    .dataframe thead th {\n",
              "        text-align: right;\n",
              "    }\n",
              "</style>\n",
              "<table border=\"1\" class=\"dataframe\">\n",
              "  <thead>\n",
              "    <tr style=\"text-align: right;\">\n",
              "      <th></th>\n",
              "      <th>ELMO2</th>\n",
              "      <th>CREB3L1</th>\n",
              "      <th>RPS11</th>\n",
              "      <th>PNMA1</th>\n",
              "      <th>MMP2</th>\n",
              "      <th>C10orf90</th>\n",
              "      <th>ZHX3</th>\n",
              "      <th>ERCC5</th>\n",
              "      <th>GPR98</th>\n",
              "      <th>RXFP3</th>\n",
              "      <th>...</th>\n",
              "      <th>GRIP2</th>\n",
              "      <th>GPLD1</th>\n",
              "      <th>RAB8A</th>\n",
              "      <th>RXFP2</th>\n",
              "      <th>PIK3IP1</th>\n",
              "      <th>SLC39A6</th>\n",
              "      <th>SNRPD2</th>\n",
              "      <th>AQP7</th>\n",
              "      <th>CTSC</th>\n",
              "      <th>label</th>\n",
              "    </tr>\n",
              "  </thead>\n",
              "  <tbody>\n",
              "    <tr>\n",
              "      <th>TCGA-AN-A0AR-01A-11R-A00Z-07</th>\n",
              "      <td>-0.144833</td>\n",
              "      <td>-0.66525</td>\n",
              "      <td>1.267750</td>\n",
              "      <td>0.39600</td>\n",
              "      <td>-0.976500</td>\n",
              "      <td>1.067250</td>\n",
              "      <td>-0.354833</td>\n",
              "      <td>0.45650</td>\n",
              "      <td>0.164875</td>\n",
              "      <td>0.5385</td>\n",
              "      <td>...</td>\n",
              "      <td>-0.07275</td>\n",
              "      <td>-0.422000</td>\n",
              "      <td>0.3301</td>\n",
              "      <td>0.430</td>\n",
              "      <td>0.82350</td>\n",
              "      <td>-0.8804</td>\n",
              "      <td>0.5444</td>\n",
              "      <td>-0.1745</td>\n",
              "      <td>1.5650</td>\n",
              "      <td>1</td>\n",
              "    </tr>\n",
              "    <tr>\n",
              "      <th>TCGA-AO-A0JL-01A-11R-A056-07</th>\n",
              "      <td>-0.280333</td>\n",
              "      <td>1.20875</td>\n",
              "      <td>0.460500</td>\n",
              "      <td>-0.85600</td>\n",
              "      <td>-0.300000</td>\n",
              "      <td>1.714500</td>\n",
              "      <td>0.596833</td>\n",
              "      <td>-0.19825</td>\n",
              "      <td>-1.541125</td>\n",
              "      <td>1.1900</td>\n",
              "      <td>...</td>\n",
              "      <td>-1.74100</td>\n",
              "      <td>-1.091667</td>\n",
              "      <td>-0.0773</td>\n",
              "      <td>1.038</td>\n",
              "      <td>-0.74825</td>\n",
              "      <td>-2.8591</td>\n",
              "      <td>0.2309</td>\n",
              "      <td>-0.5260</td>\n",
              "      <td>-0.8582</td>\n",
              "      <td>1</td>\n",
              "    </tr>\n",
              "    <tr>\n",
              "      <th>TCGA-E2-A153-11A-31R-A12D-07</th>\n",
              "      <td>-0.270818</td>\n",
              "      <td>2.66750</td>\n",
              "      <td>2.191125</td>\n",
              "      <td>-0.99675</td>\n",
              "      <td>3.825667</td>\n",
              "      <td>1.371667</td>\n",
              "      <td>-0.860333</td>\n",
              "      <td>-1.40375</td>\n",
              "      <td>0.208250</td>\n",
              "      <td>3.9070</td>\n",
              "      <td>...</td>\n",
              "      <td>1.20100</td>\n",
              "      <td>1.516667</td>\n",
              "      <td>-0.0346</td>\n",
              "      <td>0.189</td>\n",
              "      <td>1.78125</td>\n",
              "      <td>-2.2335</td>\n",
              "      <td>1.8620</td>\n",
              "      <td>1.4320</td>\n",
              "      <td>1.6107</td>\n",
              "      <td>0</td>\n",
              "    </tr>\n",
              "  </tbody>\n",
              "</table>\n",
              "<p>3 rows × 17815 columns</p>\n",
              "</div>\n",
              "      <button class=\"colab-df-convert\" onclick=\"convertToInteractive('df-3cef588d-0510-4786-a95c-3dac14dd2efa')\"\n",
              "              title=\"Convert this dataframe to an interactive table.\"\n",
              "              style=\"display:none;\">\n",
              "        \n",
              "  <svg xmlns=\"http://www.w3.org/2000/svg\" height=\"24px\"viewBox=\"0 0 24 24\"\n",
              "       width=\"24px\">\n",
              "    <path d=\"M0 0h24v24H0V0z\" fill=\"none\"/>\n",
              "    <path d=\"M18.56 5.44l.94 2.06.94-2.06 2.06-.94-2.06-.94-.94-2.06-.94 2.06-2.06.94zm-11 1L8.5 8.5l.94-2.06 2.06-.94-2.06-.94L8.5 2.5l-.94 2.06-2.06.94zm10 10l.94 2.06.94-2.06 2.06-.94-2.06-.94-.94-2.06-.94 2.06-2.06.94z\"/><path d=\"M17.41 7.96l-1.37-1.37c-.4-.4-.92-.59-1.43-.59-.52 0-1.04.2-1.43.59L10.3 9.45l-7.72 7.72c-.78.78-.78 2.05 0 2.83L4 21.41c.39.39.9.59 1.41.59.51 0 1.02-.2 1.41-.59l7.78-7.78 2.81-2.81c.8-.78.8-2.07 0-2.86zM5.41 20L4 18.59l7.72-7.72 1.47 1.35L5.41 20z\"/>\n",
              "  </svg>\n",
              "      </button>\n",
              "      \n",
              "  <style>\n",
              "    .colab-df-container {\n",
              "      display:flex;\n",
              "      flex-wrap:wrap;\n",
              "      gap: 12px;\n",
              "    }\n",
              "\n",
              "    .colab-df-convert {\n",
              "      background-color: #E8F0FE;\n",
              "      border: none;\n",
              "      border-radius: 50%;\n",
              "      cursor: pointer;\n",
              "      display: none;\n",
              "      fill: #1967D2;\n",
              "      height: 32px;\n",
              "      padding: 0 0 0 0;\n",
              "      width: 32px;\n",
              "    }\n",
              "\n",
              "    .colab-df-convert:hover {\n",
              "      background-color: #E2EBFA;\n",
              "      box-shadow: 0px 1px 2px rgba(60, 64, 67, 0.3), 0px 1px 3px 1px rgba(60, 64, 67, 0.15);\n",
              "      fill: #174EA6;\n",
              "    }\n",
              "\n",
              "    [theme=dark] .colab-df-convert {\n",
              "      background-color: #3B4455;\n",
              "      fill: #D2E3FC;\n",
              "    }\n",
              "\n",
              "    [theme=dark] .colab-df-convert:hover {\n",
              "      background-color: #434B5C;\n",
              "      box-shadow: 0px 1px 3px 1px rgba(0, 0, 0, 0.15);\n",
              "      filter: drop-shadow(0px 1px 2px rgba(0, 0, 0, 0.3));\n",
              "      fill: #FFFFFF;\n",
              "    }\n",
              "  </style>\n",
              "\n",
              "      <script>\n",
              "        const buttonEl =\n",
              "          document.querySelector('#df-3cef588d-0510-4786-a95c-3dac14dd2efa button.colab-df-convert');\n",
              "        buttonEl.style.display =\n",
              "          google.colab.kernel.accessAllowed ? 'block' : 'none';\n",
              "\n",
              "        async function convertToInteractive(key) {\n",
              "          const element = document.querySelector('#df-3cef588d-0510-4786-a95c-3dac14dd2efa');\n",
              "          const dataTable =\n",
              "            await google.colab.kernel.invokeFunction('convertToInteractive',\n",
              "                                                     [key], {});\n",
              "          if (!dataTable) return;\n",
              "\n",
              "          const docLinkHtml = 'Like what you see? Visit the ' +\n",
              "            '<a target=\"_blank\" href=https://colab.research.google.com/notebooks/data_table.ipynb>data table notebook</a>'\n",
              "            + ' to learn more about interactive tables.';\n",
              "          element.innerHTML = '';\n",
              "          dataTable['output_type'] = 'display_data';\n",
              "          await google.colab.output.renderOutput(dataTable, element);\n",
              "          const docLink = document.createElement('div');\n",
              "          docLink.innerHTML = docLinkHtml;\n",
              "          element.appendChild(docLink);\n",
              "        }\n",
              "      </script>\n",
              "    </div>\n",
              "  </div>\n",
              "  "
            ]
          },
          "metadata": {},
          "execution_count": 36
        }
      ]
    },
    {
      "cell_type": "code",
      "source": [
        "np.mean(data.loc[(data['HCRT'] > 4) |  (data['PRM1'] > 4) | (data['LENG8'] > 4) | (data['TBC1D21'] > 4), ].mean() - data.mean())"
      ],
      "metadata": {
        "colab": {
          "base_uri": "https://localhost:8080/"
        },
        "id": "GAlOtLgWR2ex",
        "outputId": "4712b980-6c4a-49eb-c6e9-0d8971cbe673"
      },
      "execution_count": null,
      "outputs": [
        {
          "output_type": "execute_result",
          "data": {
            "text/plain": [
              "-0.04092056048473328"
            ]
          },
          "metadata": {},
          "execution_count": 37
        }
      ]
    },
    {
      "cell_type": "code",
      "source": [
        "#왜도\n",
        "plt.figure(figsize=(8,4))\n",
        "plt.hist(data.skew(),bins=15)\n",
        "plt.title('왜도')\n",
        "plt.show() #큰 문제 없어보임"
      ],
      "metadata": {
        "colab": {
          "base_uri": "https://localhost:8080/",
          "height": 350
        },
        "id": "MREF1Z3d1lsP",
        "outputId": "96dfe7df-836d-4666-a307-63ffdfe1edc5"
      },
      "execution_count": null,
      "outputs": [
        {
          "output_type": "stream",
          "name": "stderr",
          "text": [
            "/usr/local/lib/python3.8/dist-packages/matplotlib/backends/backend_agg.py:214: RuntimeWarning: Glyph 8722 missing from current font.\n",
            "  font.set_text(s, 0.0, flags=flags)\n",
            "/usr/local/lib/python3.8/dist-packages/matplotlib/backends/backend_agg.py:183: RuntimeWarning: Glyph 8722 missing from current font.\n",
            "  font.set_text(s, 0, flags=flags)\n"
          ]
        },
        {
          "output_type": "display_data",
          "data": {
            "text/plain": [
              "<Figure size 576x288 with 1 Axes>"
            ],
            "image/png": "[encoded data removed]"
          },
          "metadata": {
            "needs_background": "light"
          }
        }
      ]
    },
    {
      "cell_type": "code",
      "source": [
        "# 결측치를 포함한 열들만 출력하는 코드!\n",
        "na_data = data.drop(data.dropna(axis=1).columns,axis=1) #534개의 결측 열\n",
        "na_data.isna().sum()"
      ],
      "metadata": {
        "colab": {
          "base_uri": "https://localhost:8080/"
        },
        "id": "6Q_BwsjurGn_",
        "outputId": "cd63dc79-39cf-4e7a-ed83-8d1889b12a08"
      },
      "execution_count": null,
      "outputs": [
        {
          "output_type": "execute_result",
          "data": {
            "text/plain": [
              "OR2K2        5\n",
              "ADAM5P      14\n",
              "KIAA1486     1\n",
              "C9orf11      2\n",
              "C8G          1\n",
              "            ..\n",
              "OR1J4       14\n",
              "MLNR         1\n",
              "SALL3        2\n",
              "CCDC73       1\n",
              "RXFP2        1\n",
              "Length: 534, dtype: int64"
            ]
          },
          "metadata": {},
          "execution_count": 39
        }
      ]
    },
    {
      "cell_type": "code",
      "source": [
        "na_data.dropna(axis=0).index #277개의 결측 행\n",
        "np.sort(na_data.isna().sum(axis=1)) #특정 열에 몰려있는것도 아님"
      ],
      "metadata": {
        "colab": {
          "base_uri": "https://localhost:8080/"
        },
        "id": "lc3UR6mcTvbP",
        "outputId": "f2c79206-1ed7-4d96-fea7-6e6122a0ce71"
      },
      "execution_count": null,
      "outputs": [
        {
          "output_type": "execute_result",
          "data": {
            "text/plain": [
              "array([ 0,  0,  0,  0,  0,  0,  0,  0,  0,  0,  0,  0,  0,  0,  0,  0,  0,\n",
              "        0,  0,  0,  0,  0,  0,  0,  0,  0,  0,  0,  0,  0,  0,  0,  0,  0,\n",
              "        0,  0,  0,  0,  0,  0,  0,  0,  0,  0,  0,  0,  0,  0,  0,  0,  0,\n",
              "        0,  0,  0,  0,  0,  0,  0,  0,  0,  0,  0,  0,  0,  0,  0,  0,  0,\n",
              "        0,  0,  0,  0,  0,  0,  0,  0,  0,  0,  0,  0,  0,  0,  0,  0,  0,\n",
              "        0,  0,  0,  0,  0,  0,  0,  0,  0,  0,  0,  0,  0,  0,  0,  0,  0,\n",
              "        0,  0,  0,  0,  0,  0,  0,  0,  0,  0,  0,  0,  0,  0,  0,  0,  0,\n",
              "        0,  0,  0,  0,  0,  0,  0,  0,  0,  0,  0,  0,  0,  0,  0,  0,  0,\n",
              "        0,  0,  0,  0,  0,  0,  0,  0,  0,  0,  0,  0,  0,  0,  0,  0,  0,\n",
              "        0,  0,  0,  0,  0,  0,  0,  0,  0,  0,  0,  0,  0,  0,  0,  0,  0,\n",
              "        0,  0,  0,  0,  0,  0,  0,  0,  0,  0,  0,  0,  0,  0,  0,  0,  0,\n",
              "        0,  0,  0,  0,  0,  0,  0,  0,  0,  0,  0,  0,  0,  0,  0,  0,  0,\n",
              "        0,  0,  0,  0,  0,  0,  0,  0,  0,  0,  0,  0,  0,  0,  0,  0,  0,\n",
              "        0,  0,  0,  0,  0,  0,  0,  0,  0,  0,  0,  0,  0,  0,  0,  0,  0,\n",
              "        0,  0,  0,  0,  0,  0,  0,  0,  0,  0,  0,  0,  0,  0,  0,  0,  0,\n",
              "        0,  0,  0,  0,  0,  0,  0,  0,  0,  0,  0,  0,  0,  0,  0,  0,  0,\n",
              "        0,  0,  0,  0,  0,  1,  1,  1,  1,  1,  1,  1,  1,  1,  1,  1,  1,\n",
              "        1,  1,  1,  1,  1,  1,  1,  1,  1,  1,  1,  1,  1,  1,  1,  1,  1,\n",
              "        1,  1,  1,  1,  1,  1,  1,  1,  1,  1,  1,  1,  1,  1,  1,  1,  1,\n",
              "        1,  1,  1,  1,  1,  1,  1,  1,  1,  1,  1,  1,  1,  1,  1,  1,  1,\n",
              "        1,  1,  1,  1,  1,  1,  1,  1,  1,  1,  1,  1,  1,  1,  1,  1,  1,\n",
              "        1,  1,  1,  1,  1,  1,  1,  1,  1,  1,  1,  1,  1,  1,  1,  1,  1,\n",
              "        1,  1,  1,  2,  2,  2,  2,  2,  2,  2,  2,  2,  2,  2,  2,  2,  2,\n",
              "        2,  2,  2,  2,  2,  2,  2,  2,  2,  2,  2,  2,  2,  2,  2,  2,  2,\n",
              "        2,  2,  2,  2,  2,  2,  2,  2,  2,  2,  2,  2,  2,  2,  3,  3,  3,\n",
              "        3,  3,  3,  3,  3,  3,  3,  3,  3,  3,  3,  3,  3,  3,  3,  3,  3,\n",
              "        3,  3,  3,  3,  3,  3,  3,  3,  3,  3,  3,  3,  3,  3,  3,  3,  4,\n",
              "        4,  4,  4,  4,  4,  4,  4,  4,  4,  4,  4,  4,  4,  4,  4,  4,  4,\n",
              "        4,  4,  4,  4,  4,  4,  4,  4,  4,  5,  5,  5,  5,  5,  5,  5,  5,\n",
              "        5,  5,  5,  5,  5,  5,  6,  6,  6,  6,  6,  6,  6,  6,  6,  6,  6,\n",
              "        6,  6,  6,  6,  7,  7,  7,  7,  7,  7,  8,  8,  8,  8,  8,  8,  8,\n",
              "        8,  9,  9,  9,  9,  9,  9,  9,  9,  9, 10, 10, 10, 10, 10, 11, 11,\n",
              "       11, 11, 12, 12, 12, 12, 12, 12, 12, 12, 12, 13, 13, 13, 13, 13, 14,\n",
              "       14, 14, 15, 15, 15, 17, 17, 17, 18, 18, 18, 18, 18, 18, 19, 20, 20,\n",
              "       21, 22, 23, 24, 24, 24, 26, 32, 36, 38, 43, 57])"
            ]
          },
          "metadata": {},
          "execution_count": 40
        }
      ]
    },
    {
      "cell_type": "code",
      "source": [
        "data.isin([0]).sum(axis=1) # 결측값은 0이라서 발생하는것은 아님을 확인"
      ],
      "metadata": {
        "colab": {
          "base_uri": "https://localhost:8080/"
        },
        "id": "W6FQ1NKrWkKW",
        "outputId": "f819c9da-a211-46d4-f731-69b0d19c24d3"
      },
      "execution_count": null,
      "outputs": [
        {
          "output_type": "execute_result",
          "data": {
            "text/plain": [
              "TCGA-A2-A0CT-01A-31R-A056-07    0\n",
              "TCGA-BH-A1EO-01A-11R-A137-07    0\n",
              "TCGA-BH-A0AW-01A-11R-A056-07    1\n",
              "TCGA-B6-A0RM-01A-11R-A084-07    2\n",
              "TCGA-A8-A08T-01A-21R-A00Z-07    0\n",
              "                               ..\n",
              "TCGA-B6-A0RO-01A-22R-A084-07    0\n",
              "TCGA-E2-A15G-01A-11R-A12D-07    2\n",
              "TCGA-BH-A0W7-01A-11R-A115-07    2\n",
              "TCGA-BH-A0BM-11A-12R-A089-07    1\n",
              "TCGA-BH-A0HP-01A-12R-A084-07    3\n",
              "Length: 590, dtype: int64"
            ]
          },
          "metadata": {},
          "execution_count": 41
        }
      ]
    },
    {
      "cell_type": "markdown",
      "source": [
        "## 변수 다중대체법 사용하려했으나 안돌아감\n",
        "\n",
        "!pip install impyute\n",
        "from impyute.imputation.cs import mice\n",
        "from sklearn.experimental import enable_iterative_imputer\n",
        "from sklearn.impute import IterativeImputer\n",
        "import missingno as msno\n",
        "msno.matrix(data)\n",
        "total_impute = pd.DataFrame(IterativeImputer(verbose=False).fit_transform(data))\n",
        "total_impute.isna().sum()\n",
        "\n",
        "https://www.sloth-lifes.com/entry/MLDL-%EB%8C%80%EC%B2%B4%EB%B2%95%EC%9D%98-%EC%A2%85%EB%A5%98%EC%99%80-%EB%8B%A4%EC%A4%91-%EB%8C%80%EC%B2%B4%EB%B2%95-%EC%82%AC%EC%9A%A9%EB%B2%95#:~:text=%EB%8B%A4%EC%A4%91%20%EB%8C%80%EC%B2%B4%EB%A5%BC%20%ED%95%98%EA%B8%B0%20%EC%9C%84%ED%95%B4%EC%84%A0%20impyute%EA%B0%80%20%ED%95%84%EC%9A%94%ED%95%98%EB%8B%A4%20%ED%95%B4%EB%8B%B9%20%EB%9D%BC%EC%9D%B4%EB%B8%8C%EB%9F%AC%EB%A6%AC%EB%A5%BC,%EB%8C%80%EC%B2%B4%EB%A5%BC%20%ED%95%98%EA%B8%B0%20%EC%9C%84%ED%95%B4%EC%84%A0%20train%EA%B3%BC%20test%EB%A5%BC%20%ED%95%A9%EC%B9%98%EB%8A%94%20%EC%9E%91%EC%97%85%EC%9D%B4%20%ED%95%84%EC%9A%94%ED%95%98%EB%8B%A4.\n",
        "다중대체법 코드 있는곳"
      ],
      "metadata": {
        "id": "Fa0_KI_AXYnB"
      }
    },
    {
      "cell_type": "markdown",
      "source": [
        "# Imputation"
      ],
      "metadata": {
        "id": "A_tRBr2K5mEm"
      }
    },
    {
      "cell_type": "code",
      "source": [
        "from sklearn.impute import SimpleImputer"
      ],
      "metadata": {
        "id": "eN1N8b-Z5wnY"
      },
      "execution_count": null,
      "outputs": []
    },
    {
      "cell_type": "code",
      "source": [
        "# 중위수로 대체 \n",
        "data_impute = SimpleImputer(missing_values=np.nan, strategy='median') \n",
        "data_impute = pd.DataFrame(data_impute.fit_transform(data), columns = data.columns, index = data.index )\n",
        "data_impute.isna().sum().sum()"
      ],
      "metadata": {
        "colab": {
          "base_uri": "https://localhost:8080/"
        },
        "id": "QkSXr-YO5w2x",
        "outputId": "89d2e4a2-5394-4834-fa64-f5c139622595"
      },
      "execution_count": null,
      "outputs": [
        {
          "output_type": "execute_result",
          "data": {
            "text/plain": [
              "0"
            ]
          },
          "metadata": {},
          "execution_count": 43
        }
      ]
    },
    {
      "cell_type": "markdown",
      "source": [
        "## 1.원변수 기본 모델링 (RF)\n"
      ],
      "metadata": {
        "id": "ntzmwL-w7YJQ"
      }
    },
    {
      "cell_type": "code",
      "source": [
        "from  sklearn.preprocessing import MinMaxScaler\n",
        "\n",
        "from sklearn.model_selection import train_test_split\n",
        "from sklearn.model_selection import RepeatedStratifiedKFold, cross_val_score\n",
        "\n",
        "from sklearn import metrics\n",
        "from sklearn.ensemble import RandomForestClassifier as RF\n",
        "from sklearn.metrics import classification_report"
      ],
      "metadata": {
        "id": "fFgSq5M9aY7S"
      },
      "execution_count": null,
      "outputs": []
    },
    {
      "cell_type": "code",
      "source": [
        "#scaling\n",
        "scaler = MinMaxScaler()\n",
        "\n",
        "data_scale = pd.DataFrame(scaler.fit_transform(data_impute), \n",
        "                     index=data_impute.index,\n",
        "                     columns = data_impute.columns)\n",
        "data_scale.head(2)"
      ],
      "metadata": {
        "colab": {
          "base_uri": "https://localhost:8080/",
          "height": 140
        },
        "id": "OeiJGlaklfUY",
        "outputId": "2db25595-bf51-4fe0-b457-80595f588ff9"
      },
      "execution_count": null,
      "outputs": [
        {
          "output_type": "execute_result",
          "data": {
            "text/plain": [
              "                                 ELMO2   CREB3L1     RPS11     PNMA1  \\\n",
              "TCGA-A2-A0CT-01A-31R-A056-07  0.533173  0.206670  0.296269  0.761041   \n",
              "TCGA-BH-A1EO-01A-11R-A137-07  0.424381  0.533779  0.529507  0.654710   \n",
              "\n",
              "                                  MMP2  C10orf90      ZHX3     ERCC5  \\\n",
              "TCGA-A2-A0CT-01A-31R-A056-07  0.354591  0.347271  0.583598  0.106646   \n",
              "TCGA-BH-A1EO-01A-11R-A137-07  0.678659  0.267592  0.494380  0.358094   \n",
              "\n",
              "                                 GPR98     RXFP3  ...     GRIP2     GPLD1  \\\n",
              "TCGA-A2-A0CT-01A-31R-A056-07  0.403783  0.241629  ...  0.472490  0.500472   \n",
              "TCGA-BH-A1EO-01A-11R-A137-07  0.205048  0.316624  ...  0.584212  0.153813   \n",
              "\n",
              "                                 RAB8A     RXFP2   PIK3IP1   SLC39A6  \\\n",
              "TCGA-A2-A0CT-01A-31R-A056-07  0.601368  0.442814  0.740000  0.608109   \n",
              "TCGA-BH-A1EO-01A-11R-A137-07  0.366010  0.259808  0.720264  0.385303   \n",
              "\n",
              "                                SNRPD2      AQP7      CTSC  label  \n",
              "TCGA-A2-A0CT-01A-31R-A056-07  0.577067  0.179909  0.241957    1.0  \n",
              "TCGA-BH-A1EO-01A-11R-A137-07  0.611481  0.315117  0.645070    1.0  \n",
              "\n",
              "[2 rows x 17815 columns]"
            ],
            "text/html": [
              "\n",
              "  <div id=\"df-565d0c3f-9118-41e1-bea9-a340e321792f\">\n",
              "    <div class=\"colab-df-container\">\n",
              "      <div>\n",
              "<style scoped>\n",
              "    .dataframe tbody tr th:only-of-type {\n",
              "        vertical-align: middle;\n",
              "    }\n",
              "\n",
              "    .dataframe tbody tr th {\n",
              "        vertical-align: top;\n",
              "    }\n",
              "\n",
              "    .dataframe thead th {\n",
              "        text-align: right;\n",
              "    }\n",
              "</style>\n",
              "<table border=\"1\" class=\"dataframe\">\n",
              "  <thead>\n",
              "    <tr style=\"text-align: right;\">\n",
              "      <th></th>\n",
              "      <th>ELMO2</th>\n",
              "      <th>CREB3L1</th>\n",
              "      <th>RPS11</th>\n",
              "      <th>PNMA1</th>\n",
              "      <th>MMP2</th>\n",
              "      <th>C10orf90</th>\n",
              "      <th>ZHX3</th>\n",
              "      <th>ERCC5</th>\n",
              "      <th>GPR98</th>\n",
              "      <th>RXFP3</th>\n",
              "      <th>...</th>\n",
              "      <th>GRIP2</th>\n",
              "      <th>GPLD1</th>\n",
              "      <th>RAB8A</th>\n",
              "      <th>RXFP2</th>\n",
              "      <th>PIK3IP1</th>\n",
              "      <th>SLC39A6</th>\n",
              "      <th>SNRPD2</th>\n",
              "      <th>AQP7</th>\n",
              "      <th>CTSC</th>\n",
              "      <th>label</th>\n",
              "    </tr>\n",
              "  </thead>\n",
              "  <tbody>\n",
              "    <tr>\n",
              "      <th>TCGA-A2-A0CT-01A-31R-A056-07</th>\n",
              "      <td>0.533173</td>\n",
              "      <td>0.206670</td>\n",
              "      <td>0.296269</td>\n",
              "      <td>0.761041</td>\n",
              "      <td>0.354591</td>\n",
              "      <td>0.347271</td>\n",
              "      <td>0.583598</td>\n",
              "      <td>0.106646</td>\n",
              "      <td>0.403783</td>\n",
              "      <td>0.241629</td>\n",
              "      <td>...</td>\n",
              "      <td>0.472490</td>\n",
              "      <td>0.500472</td>\n",
              "      <td>0.601368</td>\n",
              "      <td>0.442814</td>\n",
              "      <td>0.740000</td>\n",
              "      <td>0.608109</td>\n",
              "      <td>0.577067</td>\n",
              "      <td>0.179909</td>\n",
              "      <td>0.241957</td>\n",
              "      <td>1.0</td>\n",
              "    </tr>\n",
              "    <tr>\n",
              "      <th>TCGA-BH-A1EO-01A-11R-A137-07</th>\n",
              "      <td>0.424381</td>\n",
              "      <td>0.533779</td>\n",
              "      <td>0.529507</td>\n",
              "      <td>0.654710</td>\n",
              "      <td>0.678659</td>\n",
              "      <td>0.267592</td>\n",
              "      <td>0.494380</td>\n",
              "      <td>0.358094</td>\n",
              "      <td>0.205048</td>\n",
              "      <td>0.316624</td>\n",
              "      <td>...</td>\n",
              "      <td>0.584212</td>\n",
              "      <td>0.153813</td>\n",
              "      <td>0.366010</td>\n",
              "      <td>0.259808</td>\n",
              "      <td>0.720264</td>\n",
              "      <td>0.385303</td>\n",
              "      <td>0.611481</td>\n",
              "      <td>0.315117</td>\n",
              "      <td>0.645070</td>\n",
              "      <td>1.0</td>\n",
              "    </tr>\n",
              "  </tbody>\n",
              "</table>\n",
              "<p>2 rows × 17815 columns</p>\n",
              "</div>\n",
              "      <button class=\"colab-df-convert\" onclick=\"convertToInteractive('df-565d0c3f-9118-41e1-bea9-a340e321792f')\"\n",
              "              title=\"Convert this dataframe to an interactive table.\"\n",
              "              style=\"display:none;\">\n",
              "        \n",
              "  <svg xmlns=\"http://www.w3.org/2000/svg\" height=\"24px\"viewBox=\"0 0 24 24\"\n",
              "       width=\"24px\">\n",
              "    <path d=\"M0 0h24v24H0V0z\" fill=\"none\"/>\n",
              "    <path d=\"M18.56 5.44l.94 2.06.94-2.06 2.06-.94-2.06-.94-.94-2.06-.94 2.06-2.06.94zm-11 1L8.5 8.5l.94-2.06 2.06-.94-2.06-.94L8.5 2.5l-.94 2.06-2.06.94zm10 10l.94 2.06.94-2.06 2.06-.94-2.06-.94-.94-2.06-.94 2.06-2.06.94z\"/><path d=\"M17.41 7.96l-1.37-1.37c-.4-.4-.92-.59-1.43-.59-.52 0-1.04.2-1.43.59L10.3 9.45l-7.72 7.72c-.78.78-.78 2.05 0 2.83L4 21.41c.39.39.9.59 1.41.59.51 0 1.02-.2 1.41-.59l7.78-7.78 2.81-2.81c.8-.78.8-2.07 0-2.86zM5.41 20L4 18.59l7.72-7.72 1.47 1.35L5.41 20z\"/>\n",
              "  </svg>\n",
              "      </button>\n",
              "      \n",
              "  <style>\n",
              "    .colab-df-container {\n",
              "      display:flex;\n",
              "      flex-wrap:wrap;\n",
              "      gap: 12px;\n",
              "    }\n",
              "\n",
              "    .colab-df-convert {\n",
              "      background-color: #E8F0FE;\n",
              "      border: none;\n",
              "      border-radius: 50%;\n",
              "      cursor: pointer;\n",
              "      display: none;\n",
              "      fill: #1967D2;\n",
              "      height: 32px;\n",
              "      padding: 0 0 0 0;\n",
              "      width: 32px;\n",
              "    }\n",
              "\n",
              "    .colab-df-convert:hover {\n",
              "      background-color: #E2EBFA;\n",
              "      box-shadow: 0px 1px 2px rgba(60, 64, 67, 0.3), 0px 1px 3px 1px rgba(60, 64, 67, 0.15);\n",
              "      fill: #174EA6;\n",
              "    }\n",
              "\n",
              "    [theme=dark] .colab-df-convert {\n",
              "      background-color: #3B4455;\n",
              "      fill: #D2E3FC;\n",
              "    }\n",
              "\n",
              "    [theme=dark] .colab-df-convert:hover {\n",
              "      background-color: #434B5C;\n",
              "      box-shadow: 0px 1px 3px 1px rgba(0, 0, 0, 0.15);\n",
              "      filter: drop-shadow(0px 1px 2px rgba(0, 0, 0, 0.3));\n",
              "      fill: #FFFFFF;\n",
              "    }\n",
              "  </style>\n",
              "\n",
              "      <script>\n",
              "        const buttonEl =\n",
              "          document.querySelector('#df-565d0c3f-9118-41e1-bea9-a340e321792f button.colab-df-convert');\n",
              "        buttonEl.style.display =\n",
              "          google.colab.kernel.accessAllowed ? 'block' : 'none';\n",
              "\n",
              "        async function convertToInteractive(key) {\n",
              "          const element = document.querySelector('#df-565d0c3f-9118-41e1-bea9-a340e321792f');\n",
              "          const dataTable =\n",
              "            await google.colab.kernel.invokeFunction('convertToInteractive',\n",
              "                                                     [key], {});\n",
              "          if (!dataTable) return;\n",
              "\n",
              "          const docLinkHtml = 'Like what you see? Visit the ' +\n",
              "            '<a target=\"_blank\" href=https://colab.research.google.com/notebooks/data_table.ipynb>data table notebook</a>'\n",
              "            + ' to learn more about interactive tables.';\n",
              "          element.innerHTML = '';\n",
              "          dataTable['output_type'] = 'display_data';\n",
              "          await google.colab.output.renderOutput(dataTable, element);\n",
              "          const docLink = document.createElement('div');\n",
              "          docLink.innerHTML = docLinkHtml;\n",
              "          element.appendChild(docLink);\n",
              "        }\n",
              "      </script>\n",
              "    </div>\n",
              "  </div>\n",
              "  "
            ]
          },
          "metadata": {},
          "execution_count": 45
        }
      ]
    },
    {
      "cell_type": "code",
      "source": [
        "#data split\n",
        "X = data_scale.drop(['label'],axis=1)\n",
        "Y = data_scale['label']\n",
        "x_train, x_test, y_train, y_test = train_test_split(X,Y,test_size=0.2,stratify=Y,random_state=1208)"
      ],
      "metadata": {
        "id": "so2u9rpba-zL"
      },
      "execution_count": null,
      "outputs": []
    },
    {
      "cell_type": "code",
      "source": [
        "print(x_train.shape,  y_test.shape)"
      ],
      "metadata": {
        "colab": {
          "base_uri": "https://localhost:8080/"
        },
        "id": "eWhRQZdEbZQt",
        "outputId": "aecd9a82-f17d-4a89-ffd3-2777f9265255"
      },
      "execution_count": null,
      "outputs": [
        {
          "output_type": "stream",
          "name": "stdout",
          "text": [
            "(472, 17814) (118,)\n"
          ]
        }
      ]
    },
    {
      "cell_type": "code",
      "source": [
        "# RF\n",
        "rf = RF(random_state=1208,class_weight='balanced')\n",
        "rf.fit(x_train,y_train)\n",
        "pred = rf.predict(x_test)\n",
        "tr_score = metrics.f1_score(y_train,rf.predict(x_train))\n",
        "pred_score = metrics.f1_score(y_test, pred)"
      ],
      "metadata": {
        "id": "NnJvKtrEbtFt"
      },
      "execution_count": null,
      "outputs": []
    },
    {
      "cell_type": "code",
      "source": [
        "print(tr_score,' ',pred_score) #성능평가"
      ],
      "metadata": {
        "colab": {
          "base_uri": "https://localhost:8080/"
        },
        "id": "y5Vg-enNccXe",
        "outputId": "d91cc70d-4ea4-417d-a765-042da28abc33"
      },
      "execution_count": null,
      "outputs": [
        {
          "output_type": "stream",
          "name": "stdout",
          "text": [
            "1.0   0.9952606635071091\n"
          ]
        }
      ]
    },
    {
      "cell_type": "code",
      "source": [
        "print(classification_report(y_test, pred))"
      ],
      "metadata": {
        "colab": {
          "base_uri": "https://localhost:8080/"
        },
        "id": "mj831MbqciO5",
        "outputId": "60a4e594-b8c1-4583-b4ed-6a34420016d7"
      },
      "execution_count": null,
      "outputs": [
        {
          "output_type": "stream",
          "name": "stdout",
          "text": [
            "              precision    recall  f1-score   support\n",
            "\n",
            "         0.0       0.92      1.00      0.96        12\n",
            "         1.0       1.00      0.99      1.00       106\n",
            "\n",
            "    accuracy                           0.99       118\n",
            "   macro avg       0.96      1.00      0.98       118\n",
            "weighted avg       0.99      0.99      0.99       118\n",
            "\n"
          ]
        }
      ]
    },
    {
      "cell_type": "code",
      "source": [
        "# 상위 50개 변수중요도\n",
        "importance = pd.DataFrame(rf.feature_importances_, columns=['importance'])\n",
        "\n",
        "importance.index = x_train.columns.tolist()\n",
        "importance = importance.sort_values(by='importance')\n",
        "\n",
        "plt.figure(figsize=(10,10))\n",
        "plt.barh(importance.index[-50:], importance.importance[-50:], align='center', color=(0.3,0.9,0.8))\n",
        "plt.xlabel('변수중요도', size=12)\n",
        "plt.ylabel('변수명', size=12)\n",
        "plt.tight_layout()\n",
        "\n",
        "imp1 = importance.index[-50:]"
      ],
      "metadata": {
        "id": "5RHLL2xJquNK",
        "colab": {
          "base_uri": "https://localhost:8080/",
          "height": 729
        },
        "outputId": "7ddfeee0-e4a7-4f2a-fac7-fef8d4a92952"
      },
      "execution_count": null,
      "outputs": [
        {
          "output_type": "display_data",
          "data": {
            "text/plain": [
              "<Figure size 720x720 with 1 Axes>"
            ],
            "image/png": "[encoded data removed]"
          },
          "metadata": {
            "needs_background": "light"
          }
        }
      ]
    },
    {
      "cell_type": "markdown",
      "source": [
        "#### 구글링 해본 유방암 유발 대표적인 유전자: 'ATM', 'BRCA1', 'BRCA2', 'CHEK2', 'PALB2', 'BARD1', 'RAD51C', 'RAD51D', 'TP53'\n",
        "이들이 기본 model 에 포함되는지 확인해보자"
      ],
      "metadata": {
        "id": "Mq-BIw3J2d8j"
      }
    },
    {
      "cell_type": "code",
      "source": [
        "# 도메인을 활용하여 암 억제 유전자인 BRCA를 찾아보았다.\n",
        "list2 = ['ATM', 'BRCA1', 'BRCA2', 'CHEK2', 'PALB2', 'BARD1', 'RAD51C', 'RAD51D', 'TP53']\n",
        "\n",
        "imp_df = pd.DataFrame({\"RNA\" : importance.index, \n",
        "              \"imp\" : importance.importance})\n",
        "imp_df.sort_values(by='imp',ascending=False).head()"
      ],
      "metadata": {
        "colab": {
          "base_uri": "https://localhost:8080/",
          "height": 268
        },
        "id": "IobJm7yAu0ML",
        "outputId": "ddefc03d-4d5c-4e9a-e150-bda616638d9c"
      },
      "execution_count": null,
      "outputs": [
        {
          "output_type": "execute_result",
          "data": {
            "text/plain": [
              "                 RNA       imp\n",
              "ADAMTS5      ADAMTS5  0.039310\n",
              "HOXA2          HOXA2  0.025024\n",
              "CDCA5          CDCA5  0.024170\n",
              "LOC387911  LOC387911  0.019552\n",
              "SDPR            SDPR  0.019206"
            ],
            "text/html": [
              "\n",
              "  <div id=\"df-15cefbe8-337a-4183-9d0b-e2e1fc0cacde\">\n",
              "    <div class=\"colab-df-container\">\n",
              "      <div>\n",
              "<style scoped>\n",
              "    .dataframe tbody tr th:only-of-type {\n",
              "        vertical-align: middle;\n",
              "    }\n",
              "\n",
              "    .dataframe tbody tr th {\n",
              "        vertical-align: top;\n",
              "    }\n",
              "\n",
              "    .dataframe thead th {\n",
              "        text-align: right;\n",
              "    }\n",
              "</style>\n",
              "<table border=\"1\" class=\"dataframe\">\n",
              "  <thead>\n",
              "    <tr style=\"text-align: right;\">\n",
              "      <th></th>\n",
              "      <th>RNA</th>\n",
              "      <th>imp</th>\n",
              "    </tr>\n",
              "  </thead>\n",
              "  <tbody>\n",
              "    <tr>\n",
              "      <th>ADAMTS5</th>\n",
              "      <td>ADAMTS5</td>\n",
              "      <td>0.039310</td>\n",
              "    </tr>\n",
              "    <tr>\n",
              "      <th>HOXA2</th>\n",
              "      <td>HOXA2</td>\n",
              "      <td>0.025024</td>\n",
              "    </tr>\n",
              "    <tr>\n",
              "      <th>CDCA5</th>\n",
              "      <td>CDCA5</td>\n",
              "      <td>0.024170</td>\n",
              "    </tr>\n",
              "    <tr>\n",
              "      <th>LOC387911</th>\n",
              "      <td>LOC387911</td>\n",
              "      <td>0.019552</td>\n",
              "    </tr>\n",
              "    <tr>\n",
              "      <th>SDPR</th>\n",
              "      <td>SDPR</td>\n",
              "      <td>0.019206</td>\n",
              "    </tr>\n",
              "  </tbody>\n",
              "</table>\n",
              "</div>\n",
              "      <button class=\"colab-df-convert\" onclick=\"convertToInteractive('df-15cefbe8-337a-4183-9d0b-e2e1fc0cacde')\"\n",
              "              title=\"Convert this dataframe to an interactive table.\"\n",
              "              style=\"display:none;\">\n",
              "        \n",
              "  <svg xmlns=\"http://www.w3.org/2000/svg\" height=\"24px\"viewBox=\"0 0 24 24\"\n",
              "       width=\"24px\">\n",
              "    <path d=\"M0 0h24v24H0V0z\" fill=\"none\"/>\n",
              "    <path d=\"M18.56 5.44l.94 2.06.94-2.06 2.06-.94-2.06-.94-.94-2.06-.94 2.06-2.06.94zm-11 1L8.5 8.5l.94-2.06 2.06-.94-2.06-.94L8.5 2.5l-.94 2.06-2.06.94zm10 10l.94 2.06.94-2.06 2.06-.94-2.06-.94-.94-2.06-.94 2.06-2.06.94z\"/><path d=\"M17.41 7.96l-1.37-1.37c-.4-.4-.92-.59-1.43-.59-.52 0-1.04.2-1.43.59L10.3 9.45l-7.72 7.72c-.78.78-.78 2.05 0 2.83L4 21.41c.39.39.9.59 1.41.59.51 0 1.02-.2 1.41-.59l7.78-7.78 2.81-2.81c.8-.78.8-2.07 0-2.86zM5.41 20L4 18.59l7.72-7.72 1.47 1.35L5.41 20z\"/>\n",
              "  </svg>\n",
              "      </button>\n",
              "      \n",
              "  <style>\n",
              "    .colab-df-container {\n",
              "      display:flex;\n",
              "      flex-wrap:wrap;\n",
              "      gap: 12px;\n",
              "    }\n",
              "\n",
              "    .colab-df-convert {\n",
              "      background-color: #E8F0FE;\n",
              "      border: none;\n",
              "      border-radius: 50%;\n",
              "      cursor: pointer;\n",
              "      display: none;\n",
              "      fill: #1967D2;\n",
              "      height: 32px;\n",
              "      padding: 0 0 0 0;\n",
              "      width: 32px;\n",
              "    }\n",
              "\n",
              "    .colab-df-convert:hover {\n",
              "      background-color: #E2EBFA;\n",
              "      box-shadow: 0px 1px 2px rgba(60, 64, 67, 0.3), 0px 1px 3px 1px rgba(60, 64, 67, 0.15);\n",
              "      fill: #174EA6;\n",
              "    }\n",
              "\n",
              "    [theme=dark] .colab-df-convert {\n",
              "      background-color: #3B4455;\n",
              "      fill: #D2E3FC;\n",
              "    }\n",
              "\n",
              "    [theme=dark] .colab-df-convert:hover {\n",
              "      background-color: #434B5C;\n",
              "      box-shadow: 0px 1px 3px 1px rgba(0, 0, 0, 0.15);\n",
              "      filter: drop-shadow(0px 1px 2px rgba(0, 0, 0, 0.3));\n",
              "      fill: #FFFFFF;\n",
              "    }\n",
              "  </style>\n",
              "\n",
              "      <script>\n",
              "        const buttonEl =\n",
              "          document.querySelector('#df-15cefbe8-337a-4183-9d0b-e2e1fc0cacde button.colab-df-convert');\n",
              "        buttonEl.style.display =\n",
              "          google.colab.kernel.accessAllowed ? 'block' : 'none';\n",
              "\n",
              "        async function convertToInteractive(key) {\n",
              "          const element = document.querySelector('#df-15cefbe8-337a-4183-9d0b-e2e1fc0cacde');\n",
              "          const dataTable =\n",
              "            await google.colab.kernel.invokeFunction('convertToInteractive',\n",
              "                                                     [key], {});\n",
              "          if (!dataTable) return;\n",
              "\n",
              "          const docLinkHtml = 'Like what you see? Visit the ' +\n",
              "            '<a target=\"_blank\" href=https://colab.research.google.com/notebooks/data_table.ipynb>data table notebook</a>'\n",
              "            + ' to learn more about interactive tables.';\n",
              "          element.innerHTML = '';\n",
              "          dataTable['output_type'] = 'display_data';\n",
              "          await google.colab.output.renderOutput(dataTable, element);\n",
              "          const docLink = document.createElement('div');\n",
              "          docLink.innerHTML = docLinkHtml;\n",
              "          element.appendChild(docLink);\n",
              "        }\n",
              "      </script>\n",
              "    </div>\n",
              "  </div>\n",
              "  "
            ]
          },
          "metadata": {},
          "execution_count": 52
        }
      ]
    },
    {
      "cell_type": "code",
      "source": [
        "imp_df.loc[imp_df.RNA.isin(list2),'imp'] #BRCA2 하나만 나온다"
      ],
      "metadata": {
        "colab": {
          "base_uri": "https://localhost:8080/"
        },
        "id": "JfOXMQHaxEV5",
        "outputId": "8dd86c64-23c6-453e-f6e5-9f31e0c04383"
      },
      "execution_count": null,
      "outputs": [
        {
          "output_type": "execute_result",
          "data": {
            "text/plain": [
              "RAD51C    0.000000\n",
              "BRCA1     0.000000\n",
              "BARD1     0.000000\n",
              "PALB2     0.000000\n",
              "TP53      0.000000\n",
              "CHEK2     0.000000\n",
              "ATM       0.000000\n",
              "BRCA2     0.000051\n",
              "Name: imp, dtype: float64"
            ]
          },
          "metadata": {},
          "execution_count": 53
        }
      ]
    },
    {
      "cell_type": "markdown",
      "source": [
        "# 2. feature selection"
      ],
      "metadata": {
        "id": "EKGhzSbBpJIf"
      }
    },
    {
      "cell_type": "markdown",
      "source": [
        "microarray analysis 는 feature selection 이 주 목적 중 하나인 분석이다.  \n",
        "이미 기본 모델로도 높은 성능이 나옴  \n",
        "변수제거로 노이즈를 제거하는것이 아닌 제거하고 남은 변수들의 성능이 17000개의 성능과 동일하다면, 잘 축소했다는 것을 보여주자. \n",
        "https://www.dbpia.co.kr/pdf/pdfView.do?nodeId=NODE07129957&googleIPSandBox=false&mark=0&useDate=&ipRange=false&accessgl=Y&language=ko_KR&hasTopBanner=true\n",
        "\n",
        "https://www.dbpia.co.kr/journal/articleDetail?nodeId=NODE10671960\n",
        "\n",
        "https://www.aimspress.com/fileOther/PDF/Bioengineering/bioeng-04-00179.pdf"
      ],
      "metadata": {
        "id": "LG8yMNBOuCfE"
      }
    },
    {
      "cell_type": "markdown",
      "source": [
        "### 1. Embedded ( lasso )"
      ],
      "metadata": {
        "id": "dc2K9P4gcMnG"
      }
    },
    {
      "cell_type": "code",
      "source": [
        "from sklearn.pipeline import Pipeline\n",
        "from sklearn.model_selection import GridSearchCV\n",
        "from sklearn.linear_model import LogisticRegression\n",
        "from sklearn.feature_selection import SelectFromModel"
      ],
      "metadata": {
        "id": "JV3nXmkhcPA_"
      },
      "execution_count": null,
      "outputs": []
    },
    {
      "cell_type": "code",
      "source": [
        "pipeline = Pipeline([\n",
        "                     ('classifier',LogisticRegression())\n",
        "                     ])\n",
        "params = {'classifier__C':[0.001,0.01,0.1,0.3,0.5,1,5,10],\n",
        "          'classifier__penalty' : ['l1'],\n",
        "          'classifier__class_weight' : ['balanced'],\n",
        "          'classifier__solver':['liblinear']}"
      ],
      "metadata": {
        "id": "d2wLhnCpcTmY"
      },
      "execution_count": null,
      "outputs": []
    },
    {
      "cell_type": "code",
      "source": [
        "search = GridSearchCV(estimator = pipeline,\n",
        "                      param_grid=params,\n",
        "                      cv = 5, scoring=\"f1\",verbose=0\n",
        "                      )\n",
        "search.fit(X,Y)"
      ],
      "metadata": {
        "colab": {
          "base_uri": "https://localhost:8080/"
        },
        "id": "LfnfnNr_cTga",
        "outputId": "9b187a8b-6eb5-4938-ae77-2216ef1e41ee"
      },
      "execution_count": null,
      "outputs": [
        {
          "output_type": "execute_result",
          "data": {
            "text/plain": [
              "GridSearchCV(cv=5,\n",
              "             estimator=Pipeline(steps=[('classifier', LogisticRegression())]),\n",
              "             param_grid={'classifier__C': [0.001, 0.01, 0.1, 0.3, 0.5, 1, 5,\n",
              "                                           10],\n",
              "                         'classifier__class_weight': ['balanced'],\n",
              "                         'classifier__penalty': ['l1'],\n",
              "                         'classifier__solver': ['liblinear']},\n",
              "             scoring='f1')"
            ]
          },
          "metadata": {},
          "execution_count": 56
        }
      ]
    },
    {
      "cell_type": "code",
      "source": [
        "print(search.best_score_)\n",
        "df = pd.DataFrame(search.cv_results_)\n",
        "df = df.sort_values(by='mean_test_score', ascending=False)\n",
        "print(df[['params', 'mean_test_score']]) "
      ],
      "metadata": {
        "colab": {
          "base_uri": "https://localhost:8080/"
        },
        "id": "blll4AtMcTbl",
        "outputId": "72575416-b556-4016-95f8-95e9709b32b8"
      },
      "execution_count": null,
      "outputs": [
        {
          "output_type": "stream",
          "name": "stdout",
          "text": [
            "0.999043062200957\n",
            "                                              params  mean_test_score\n",
            "4  {'classifier__C': 0.5, 'classifier__class_weig...         0.999043\n",
            "5  {'classifier__C': 1, 'classifier__class_weight...         0.999043\n",
            "7  {'classifier__C': 10, 'classifier__class_weigh...         0.998095\n",
            "3  {'classifier__C': 0.3, 'classifier__class_weig...         0.998077\n",
            "6  {'classifier__C': 5, 'classifier__class_weight...         0.997156\n",
            "2  {'classifier__C': 0.1, 'classifier__class_weig...         0.996172\n",
            "0  {'classifier__C': 0.001, 'classifier__class_we...         0.000000\n",
            "1  {'classifier__C': 0.01, 'classifier__class_wei...         0.000000\n"
          ]
        }
      ]
    },
    {
      "cell_type": "code",
      "source": [
        "logi = LogisticRegression(C=1,class_weight='balanced',\n",
        "                   solver = 'liblinear',\n",
        "                   penalty='l1',random_state=1208)\n",
        "logi.fit(X,Y)"
      ],
      "metadata": {
        "colab": {
          "base_uri": "https://localhost:8080/"
        },
        "id": "KhzoDHQccTWG",
        "outputId": "fc762137-f01c-4ce6-83cb-fdd2f8aa92cb"
      },
      "execution_count": null,
      "outputs": [
        {
          "output_type": "execute_result",
          "data": {
            "text/plain": [
              "LogisticRegression(C=1, class_weight='balanced', penalty='l1',\n",
              "                   random_state=1208, solver='liblinear')"
            ]
          },
          "metadata": {},
          "execution_count": 58
        }
      ]
    },
    {
      "cell_type": "code",
      "source": [
        "final = pd.DataFrame({\"coef\" : logi.coef_[0], \n",
        "              \"name\" : X.columns})"
      ],
      "metadata": {
        "id": "9lzRkgdRcTQA"
      },
      "execution_count": null,
      "outputs": []
    },
    {
      "cell_type": "code",
      "source": [
        "print(final.loc[final['coef']!=0,'name'].isin(list2).sum()) #0\n",
        "embedded_1 = list(final.loc[final['coef']!=0,].name)\n",
        "print(len(embedded_1))\n",
        "final.loc[final['coef']!=0,]"
      ],
      "metadata": {
        "colab": {
          "base_uri": "https://localhost:8080/",
          "height": 238
        },
        "id": "6O12jc0PcTHo",
        "outputId": "7f6a9990-1451-4d9c-bbb3-415a13fd46a7"
      },
      "execution_count": null,
      "outputs": [
        {
          "output_type": "stream",
          "name": "stdout",
          "text": [
            "0\n",
            "39\n"
          ]
        },
        {
          "output_type": "execute_result",
          "data": {
            "text/plain": [
              "          coef           name\n",
              "331   0.099787          KIF4A\n",
              "440  -0.001157          PROS1\n",
              "2444 -0.498857           OXTR\n",
              "3138  0.359253          MKI67\n",
              "3806  0.006258  DKFZp762E1312"
            ],
            "text/html": [
              "\n",
              "  <div id=\"df-f8182ca0-fa06-4f58-8d99-db5677891153\">\n",
              "    <div class=\"colab-df-container\">\n",
              "      <div>\n",
              "<style scoped>\n",
              "    .dataframe tbody tr th:only-of-type {\n",
              "        vertical-align: middle;\n",
              "    }\n",
              "\n",
              "    .dataframe tbody tr th {\n",
              "        vertical-align: top;\n",
              "    }\n",
              "\n",
              "    .dataframe thead th {\n",
              "        text-align: right;\n",
              "    }\n",
              "</style>\n",
              "<table border=\"1\" class=\"dataframe\">\n",
              "  <thead>\n",
              "    <tr style=\"text-align: right;\">\n",
              "      <th></th>\n",
              "      <th>coef</th>\n",
              "      <th>name</th>\n",
              "    </tr>\n",
              "  </thead>\n",
              "  <tbody>\n",
              "    <tr>\n",
              "      <th>331</th>\n",
              "      <td>0.099787</td>\n",
              "      <td>KIF4A</td>\n",
              "    </tr>\n",
              "    <tr>\n",
              "      <th>440</th>\n",
              "      <td>-0.001157</td>\n",
              "      <td>PROS1</td>\n",
              "    </tr>\n",
              "    <tr>\n",
              "      <th>2444</th>\n",
              "      <td>-0.498857</td>\n",
              "      <td>OXTR</td>\n",
              "    </tr>\n",
              "    <tr>\n",
              "      <th>3138</th>\n",
              "      <td>0.359253</td>\n",
              "      <td>MKI67</td>\n",
              "    </tr>\n",
              "    <tr>\n",
              "      <th>3806</th>\n",
              "      <td>0.006258</td>\n",
              "      <td>DKFZp762E1312</td>\n",
              "    </tr>\n",
              "  </tbody>\n",
              "</table>\n",
              "</div>\n",
              "      <button class=\"colab-df-convert\" onclick=\"convertToInteractive('df-f8182ca0-fa06-4f58-8d99-db5677891153')\"\n",
              "              title=\"Convert this dataframe to an interactive table.\"\n",
              "              style=\"display:none;\">\n",
              "        \n",
              "  <svg xmlns=\"http://www.w3.org/2000/svg\" height=\"24px\"viewBox=\"0 0 24 24\"\n",
              "       width=\"24px\">\n",
              "    <path d=\"M0 0h24v24H0V0z\" fill=\"none\"/>\n",
              "    <path d=\"M18.56 5.44l.94 2.06.94-2.06 2.06-.94-2.06-.94-.94-2.06-.94 2.06-2.06.94zm-11 1L8.5 8.5l.94-2.06 2.06-.94-2.06-.94L8.5 2.5l-.94 2.06-2.06.94zm10 10l.94 2.06.94-2.06 2.06-.94-2.06-.94-.94-2.06-.94 2.06-2.06.94z\"/><path d=\"M17.41 7.96l-1.37-1.37c-.4-.4-.92-.59-1.43-.59-.52 0-1.04.2-1.43.59L10.3 9.45l-7.72 7.72c-.78.78-.78 2.05 0 2.83L4 21.41c.39.39.9.59 1.41.59.51 0 1.02-.2 1.41-.59l7.78-7.78 2.81-2.81c.8-.78.8-2.07 0-2.86zM5.41 20L4 18.59l7.72-7.72 1.47 1.35L5.41 20z\"/>\n",
              "  </svg>\n",
              "      </button>\n",
              "      \n",
              "  <style>\n",
              "    .colab-df-container {\n",
              "      display:flex;\n",
              "      flex-wrap:wrap;\n",
              "      gap: 12px;\n",
              "    }\n",
              "\n",
              "    .colab-df-convert {\n",
              "      background-color: #E8F0FE;\n",
              "      border: none;\n",
              "      border-radius: 50%;\n",
              "      cursor: pointer;\n",
              "      display: none;\n",
              "      fill: #1967D2;\n",
              "      height: 32px;\n",
              "      padding: 0 0 0 0;\n",
              "      width: 32px;\n",
              "    }\n",
              "\n",
              "    .colab-df-convert:hover {\n",
              "      background-color: #E2EBFA;\n",
              "      box-shadow: 0px 1px 2px rgba(60, 64, 67, 0.3), 0px 1px 3px 1px rgba(60, 64, 67, 0.15);\n",
              "      fill: #174EA6;\n",
              "    }\n",
              "\n",
              "    [theme=dark] .colab-df-convert {\n",
              "      background-color: #3B4455;\n",
              "      fill: #D2E3FC;\n",
              "    }\n",
              "\n",
              "    [theme=dark] .colab-df-convert:hover {\n",
              "      background-color: #434B5C;\n",
              "      box-shadow: 0px 1px 3px 1px rgba(0, 0, 0, 0.15);\n",
              "      filter: drop-shadow(0px 1px 2px rgba(0, 0, 0, 0.3));\n",
              "      fill: #FFFFFF;\n",
              "    }\n",
              "  </style>\n",
              "\n",
              "      <script>\n",
              "        const buttonEl =\n",
              "          document.querySelector('#df-f8182ca0-fa06-4f58-8d99-db5677891153 button.colab-df-convert');\n",
              "        buttonEl.style.display =\n",
              "          google.colab.kernel.accessAllowed ? 'block' : 'none';\n",
              "\n",
              "        async function convertToInteractive(key) {\n",
              "          const element = document.querySelector('#df-f8182ca0-fa06-4f58-8d99-db5677891153');\n",
              "          const dataTable =\n",
              "            await google.colab.kernel.invokeFunction('convertToInteractive',\n",
              "                                                     [key], {});\n",
              "          if (!dataTable) return;\n",
              "\n",
              "          const docLinkHtml = 'Like what you see? Visit the ' +\n",
              "            '<a target=\"_blank\" href=https://colab.research.google.com/notebooks/data_table.ipynb>data table notebook</a>'\n",
              "            + ' to learn more about interactive tables.';\n",
              "          element.innerHTML = '';\n",
              "          dataTable['output_type'] = 'display_data';\n",
              "          await google.colab.output.renderOutput(dataTable, element);\n",
              "          const docLink = document.createElement('div');\n",
              "          docLink.innerHTML = docLinkHtml;\n",
              "          element.appendChild(docLink);\n",
              "        }\n",
              "      </script>\n",
              "    </div>\n",
              "  </div>\n",
              "  "
            ]
          },
          "metadata": {},
          "execution_count": 60
        }
      ]
    },
    {
      "cell_type": "code",
      "source": [],
      "metadata": {
        "id": "QxNkgCI0w3mE"
      },
      "execution_count": null,
      "outputs": []
    },
    {
      "cell_type": "code",
      "source": [
        "rf.fit(x_train.loc[:,embedded_1],y_train) #20개\n",
        "pred = rf.predict(x_test.loc[:,embedded_1])\n",
        "\n",
        "print(classification_report(y_test, pred)) # 100퍼센트 분류 성공..."
      ],
      "metadata": {
        "colab": {
          "base_uri": "https://localhost:8080/"
        },
        "id": "1G1vpwhBg4Ij",
        "outputId": "9334b8b9-e5c0-4311-a6b8-4bfa91368fa5"
      },
      "execution_count": null,
      "outputs": [
        {
          "output_type": "stream",
          "name": "stdout",
          "text": [
            "              precision    recall  f1-score   support\n",
            "\n",
            "         0.0       1.00      1.00      1.00        12\n",
            "         1.0       1.00      1.00      1.00       106\n",
            "\n",
            "    accuracy                           1.00       118\n",
            "   macro avg       1.00      1.00      1.00       118\n",
            "weighted avg       1.00      1.00      1.00       118\n",
            "\n"
          ]
        }
      ]
    },
    {
      "cell_type": "markdown",
      "source": [
        "###  2. Filter + embedded"
      ],
      "metadata": {
        "id": "KaBAQwmmc3hq"
      }
    },
    {
      "cell_type": "code",
      "source": [
        "from sklearn.model_selection import StratifiedKFold\n",
        "from sklearn.feature_selection import SelectFpr, chi2"
      ],
      "metadata": {
        "id": "VNUunxZtc_cY"
      },
      "execution_count": null,
      "outputs": []
    },
    {
      "cell_type": "code",
      "source": [
        "#filter\n",
        "print(X.shape)\n",
        "chi_fpr = SelectFpr(chi2, alpha=0.01) #using sklearn selectfpr\n",
        "X_new = chi_fpr.fit_transform(X, Y)\n",
        "X_new.shape"
      ],
      "metadata": {
        "colab": {
          "base_uri": "https://localhost:8080/"
        },
        "id": "VCRw6aP8c_0D",
        "outputId": "701eea78-25a5-4375-a262-a3b514309848"
      },
      "execution_count": null,
      "outputs": [
        {
          "output_type": "stream",
          "name": "stdout",
          "text": [
            "(590, 17814)\n"
          ]
        },
        {
          "output_type": "execute_result",
          "data": {
            "text/plain": [
              "(590, 1146)"
            ]
          },
          "metadata": {},
          "execution_count": 63
        }
      ]
    },
    {
      "cell_type": "code",
      "source": [
        "cols = chi_fpr.get_feature_names_out(X.columns)\n",
        "print(data_scale.loc[:,cols].columns.isin(list2).sum(),'\\n', #none\n",
        "      data_scale.loc[:,cols].columns.isin(embedded_1).sum()) #all"
      ],
      "metadata": {
        "colab": {
          "base_uri": "https://localhost:8080/"
        },
        "id": "vqmLx9Xbc_9K",
        "outputId": "e1d50415-7cac-4a98-bf44-162c8e7b286c"
      },
      "execution_count": null,
      "outputs": [
        {
          "output_type": "stream",
          "name": "stdout",
          "text": [
            "0 \n",
            " 39\n"
          ]
        }
      ]
    },
    {
      "cell_type": "code",
      "source": [
        "rf.fit(x_train.loc[:,cols],y_train) #1146개\n",
        "pred = rf.predict(x_test.loc[:,cols])\n",
        "\n",
        "print(classification_report(y_test, pred)) #17000개와 성능이 동일하다"
      ],
      "metadata": {
        "colab": {
          "base_uri": "https://localhost:8080/"
        },
        "id": "eUCCTSMedI55",
        "outputId": "d17e63b5-8948-4e0a-bf95-dcece5a3396e"
      },
      "execution_count": null,
      "outputs": [
        {
          "output_type": "stream",
          "name": "stdout",
          "text": [
            "              precision    recall  f1-score   support\n",
            "\n",
            "         0.0       0.92      1.00      0.96        12\n",
            "         1.0       1.00      0.99      1.00       106\n",
            "\n",
            "    accuracy                           0.99       118\n",
            "   macro avg       0.96      1.00      0.98       118\n",
            "weighted avg       0.99      0.99      0.99       118\n",
            "\n"
          ]
        }
      ]
    },
    {
      "cell_type": "code",
      "source": [
        "importance = pd.DataFrame(rf.feature_importances_, columns=['importance'])\n",
        "\n",
        "importance.index = x_train.loc[:,cols].columns.tolist()\n",
        "importance = importance.sort_values(by='importance')\n",
        "\n",
        "plt.figure(figsize=(10,10))\n",
        "plt.barh(importance.index[-50:], importance.importance[-50:], align='center', color=(0.3,0.9,0.8))\n",
        "plt.ylabel('변수명', size=12)\n",
        "plt.title('변수중요도', size=14)\n",
        "plt.tight_layout()\n",
        "\n",
        "imp2 = importance.index[-50:]"
      ],
      "metadata": {
        "colab": {
          "base_uri": "https://localhost:8080/",
          "height": 729
        },
        "id": "lUGAELwAdNsv",
        "outputId": "121ecc98-c19a-499a-87da-907638161991"
      },
      "execution_count": null,
      "outputs": [
        {
          "output_type": "display_data",
          "data": {
            "text/plain": [
              "<Figure size 720x720 with 1 Axes>"
            ],
            "image/png": "[encoded data removed]"
          },
          "metadata": {
            "needs_background": "light"
          }
        }
      ]
    },
    {
      "cell_type": "code",
      "source": [
        "set(imp2) & set(embedded_1) # 변수중요도 상위 50개와 교집합 8개"
      ],
      "metadata": {
        "colab": {
          "base_uri": "https://localhost:8080/"
        },
        "id": "ySgbmZsziHew",
        "outputId": "1d156b17-b5c5-4309-da0c-1a2cc8546d80"
      },
      "execution_count": null,
      "outputs": [
        {
          "output_type": "execute_result",
          "data": {
            "text/plain": [
              "{'CAV1',\n",
              " 'CNTNAP3',\n",
              " 'COL10A1',\n",
              " 'COL11A1',\n",
              " 'CXCL2',\n",
              " 'HOXA4',\n",
              " 'IGSF10',\n",
              " 'KIF4A',\n",
              " 'LRRC3B',\n",
              " 'MME',\n",
              " 'MMP11',\n",
              " 'PAQR4',\n",
              " 'SPRY2',\n",
              " 'TSLP'}"
            ]
          },
          "metadata": {},
          "execution_count": 67
        }
      ]
    },
    {
      "cell_type": "code",
      "source": [
        "X2 = data_scale.loc[:,cols]\n",
        "Y2 = data_scale.loc[:,'label']"
      ],
      "metadata": {
        "id": "-x2izqHHdOPT"
      },
      "execution_count": null,
      "outputs": []
    },
    {
      "cell_type": "code",
      "source": [
        "search.fit(X2,Y2)\n",
        "print(search.best_score_)\n",
        "df = pd.DataFrame(search.cv_results_)\n",
        "df = df.sort_values(by='mean_test_score', ascending=False)\n",
        "print(df[['params', 'mean_test_score']]) "
      ],
      "metadata": {
        "colab": {
          "base_uri": "https://localhost:8080/"
        },
        "id": "P_X6xJeFdUEc",
        "outputId": "940aa9ff-f2ab-4934-b3b5-b924877a9da3"
      },
      "execution_count": null,
      "outputs": [
        {
          "output_type": "stream",
          "name": "stdout",
          "text": [
            "0.999043062200957\n",
            "                                              params  mean_test_score\n",
            "4  {'classifier__C': 0.5, 'classifier__class_weig...         0.999043\n",
            "5  {'classifier__C': 1, 'classifier__class_weight...         0.999043\n",
            "7  {'classifier__C': 10, 'classifier__class_weigh...         0.999043\n",
            "3  {'classifier__C': 0.3, 'classifier__class_weig...         0.998095\n",
            "6  {'classifier__C': 5, 'classifier__class_weight...         0.998077\n",
            "2  {'classifier__C': 0.1, 'classifier__class_weig...         0.995206\n",
            "0  {'classifier__C': 0.001, 'classifier__class_we...         0.000000\n",
            "1  {'classifier__C': 0.01, 'classifier__class_wei...         0.000000\n"
          ]
        }
      ]
    },
    {
      "cell_type": "code",
      "source": [
        "logi = LogisticRegression(C=10,class_weight='balanced',\n",
        "                   solver = 'liblinear',\n",
        "                   penalty='l1',random_state=1208)\n",
        "logi.fit(X2,Y2)"
      ],
      "metadata": {
        "colab": {
          "base_uri": "https://localhost:8080/"
        },
        "id": "fd4JyB1UdUSf",
        "outputId": "0262cccc-309c-4df5-9b69-463b3738712d"
      },
      "execution_count": null,
      "outputs": [
        {
          "output_type": "execute_result",
          "data": {
            "text/plain": [
              "LogisticRegression(C=10, class_weight='balanced', penalty='l1',\n",
              "                   random_state=1208, solver='liblinear')"
            ]
          },
          "metadata": {},
          "execution_count": 70
        }
      ]
    },
    {
      "cell_type": "code",
      "source": [
        "final = pd.DataFrame({\"coef\" : logi.coef_[0], \n",
        "              \"name\" : X2.columns})\n",
        "final.loc[final['coef']!=0,]"
      ],
      "metadata": {
        "colab": {
          "base_uri": "https://localhost:8080/",
          "height": 419
        },
        "id": "fFGsXdQhdUY8",
        "outputId": "e6d45668-a3a9-4979-949f-5e4b354cf18e"
      },
      "execution_count": null,
      "outputs": [
        {
          "output_type": "execute_result",
          "data": {
            "text/plain": [
              "          coef         name\n",
              "27    0.155526        KIF4A\n",
              "33   -0.127450         SNCA\n",
              "46   -0.034629  hCG_1990170\n",
              "61    0.277806         ADAR\n",
              "92   -0.354038        HSPB6\n",
              "...        ...          ...\n",
              "1051 -1.063677          CA4\n",
              "1053  0.947482        TACC3\n",
              "1072  0.328273    HIST1H2BD\n",
              "1095  2.066012       WDR51A\n",
              "1112 -0.357890        CREB5\n",
              "\n",
              "[65 rows x 2 columns]"
            ],
            "text/html": [
              "\n",
              "  <div id=\"df-dfa7477a-be3b-4b50-a9d7-33c86ef77d4d\">\n",
              "    <div class=\"colab-df-container\">\n",
              "      <div>\n",
              "<style scoped>\n",
              "    .dataframe tbody tr th:only-of-type {\n",
              "        vertical-align: middle;\n",
              "    }\n",
              "\n",
              "    .dataframe tbody tr th {\n",
              "        vertical-align: top;\n",
              "    }\n",
              "\n",
              "    .dataframe thead th {\n",
              "        text-align: right;\n",
              "    }\n",
              "</style>\n",
              "<table border=\"1\" class=\"dataframe\">\n",
              "  <thead>\n",
              "    <tr style=\"text-align: right;\">\n",
              "      <th></th>\n",
              "      <th>coef</th>\n",
              "      <th>name</th>\n",
              "    </tr>\n",
              "  </thead>\n",
              "  <tbody>\n",
              "    <tr>\n",
              "      <th>27</th>\n",
              "      <td>0.155526</td>\n",
              "      <td>KIF4A</td>\n",
              "    </tr>\n",
              "    <tr>\n",
              "      <th>33</th>\n",
              "      <td>-0.127450</td>\n",
              "      <td>SNCA</td>\n",
              "    </tr>\n",
              "    <tr>\n",
              "      <th>46</th>\n",
              "      <td>-0.034629</td>\n",
              "      <td>hCG_1990170</td>\n",
              "    </tr>\n",
              "    <tr>\n",
              "      <th>61</th>\n",
              "      <td>0.277806</td>\n",
              "      <td>ADAR</td>\n",
              "    </tr>\n",
              "    <tr>\n",
              "      <th>92</th>\n",
              "      <td>-0.354038</td>\n",
              "      <td>HSPB6</td>\n",
              "    </tr>\n",
              "    <tr>\n",
              "      <th>...</th>\n",
              "      <td>...</td>\n",
              "      <td>...</td>\n",
              "    </tr>\n",
              "    <tr>\n",
              "      <th>1051</th>\n",
              "      <td>-1.063677</td>\n",
              "      <td>CA4</td>\n",
              "    </tr>\n",
              "    <tr>\n",
              "      <th>1053</th>\n",
              "      <td>0.947482</td>\n",
              "      <td>TACC3</td>\n",
              "    </tr>\n",
              "    <tr>\n",
              "      <th>1072</th>\n",
              "      <td>0.328273</td>\n",
              "      <td>HIST1H2BD</td>\n",
              "    </tr>\n",
              "    <tr>\n",
              "      <th>1095</th>\n",
              "      <td>2.066012</td>\n",
              "      <td>WDR51A</td>\n",
              "    </tr>\n",
              "    <tr>\n",
              "      <th>1112</th>\n",
              "      <td>-0.357890</td>\n",
              "      <td>CREB5</td>\n",
              "    </tr>\n",
              "  </tbody>\n",
              "</table>\n",
              "<p>65 rows × 2 columns</p>\n",
              "</div>\n",
              "      <button class=\"colab-df-convert\" onclick=\"convertToInteractive('df-dfa7477a-be3b-4b50-a9d7-33c86ef77d4d')\"\n",
              "              title=\"Convert this dataframe to an interactive table.\"\n",
              "              style=\"display:none;\">\n",
              "        \n",
              "  <svg xmlns=\"http://www.w3.org/2000/svg\" height=\"24px\"viewBox=\"0 0 24 24\"\n",
              "       width=\"24px\">\n",
              "    <path d=\"M0 0h24v24H0V0z\" fill=\"none\"/>\n",
              "    <path d=\"M18.56 5.44l.94 2.06.94-2.06 2.06-.94-2.06-.94-.94-2.06-.94 2.06-2.06.94zm-11 1L8.5 8.5l.94-2.06 2.06-.94-2.06-.94L8.5 2.5l-.94 2.06-2.06.94zm10 10l.94 2.06.94-2.06 2.06-.94-2.06-.94-.94-2.06-.94 2.06-2.06.94z\"/><path d=\"M17.41 7.96l-1.37-1.37c-.4-.4-.92-.59-1.43-.59-.52 0-1.04.2-1.43.59L10.3 9.45l-7.72 7.72c-.78.78-.78 2.05 0 2.83L4 21.41c.39.39.9.59 1.41.59.51 0 1.02-.2 1.41-.59l7.78-7.78 2.81-2.81c.8-.78.8-2.07 0-2.86zM5.41 20L4 18.59l7.72-7.72 1.47 1.35L5.41 20z\"/>\n",
              "  </svg>\n",
              "      </button>\n",
              "      \n",
              "  <style>\n",
              "    .colab-df-container {\n",
              "      display:flex;\n",
              "      flex-wrap:wrap;\n",
              "      gap: 12px;\n",
              "    }\n",
              "\n",
              "    .colab-df-convert {\n",
              "      background-color: #E8F0FE;\n",
              "      border: none;\n",
              "      border-radius: 50%;\n",
              "      cursor: pointer;\n",
              "      display: none;\n",
              "      fill: #1967D2;\n",
              "      height: 32px;\n",
              "      padding: 0 0 0 0;\n",
              "      width: 32px;\n",
              "    }\n",
              "\n",
              "    .colab-df-convert:hover {\n",
              "      background-color: #E2EBFA;\n",
              "      box-shadow: 0px 1px 2px rgba(60, 64, 67, 0.3), 0px 1px 3px 1px rgba(60, 64, 67, 0.15);\n",
              "      fill: #174EA6;\n",
              "    }\n",
              "\n",
              "    [theme=dark] .colab-df-convert {\n",
              "      background-color: #3B4455;\n",
              "      fill: #D2E3FC;\n",
              "    }\n",
              "\n",
              "    [theme=dark] .colab-df-convert:hover {\n",
              "      background-color: #434B5C;\n",
              "      box-shadow: 0px 1px 3px 1px rgba(0, 0, 0, 0.15);\n",
              "      filter: drop-shadow(0px 1px 2px rgba(0, 0, 0, 0.3));\n",
              "      fill: #FFFFFF;\n",
              "    }\n",
              "  </style>\n",
              "\n",
              "      <script>\n",
              "        const buttonEl =\n",
              "          document.querySelector('#df-dfa7477a-be3b-4b50-a9d7-33c86ef77d4d button.colab-df-convert');\n",
              "        buttonEl.style.display =\n",
              "          google.colab.kernel.accessAllowed ? 'block' : 'none';\n",
              "\n",
              "        async function convertToInteractive(key) {\n",
              "          const element = document.querySelector('#df-dfa7477a-be3b-4b50-a9d7-33c86ef77d4d');\n",
              "          const dataTable =\n",
              "            await google.colab.kernel.invokeFunction('convertToInteractive',\n",
              "                                                     [key], {});\n",
              "          if (!dataTable) return;\n",
              "\n",
              "          const docLinkHtml = 'Like what you see? Visit the ' +\n",
              "            '<a target=\"_blank\" href=https://colab.research.google.com/notebooks/data_table.ipynb>data table notebook</a>'\n",
              "            + ' to learn more about interactive tables.';\n",
              "          element.innerHTML = '';\n",
              "          dataTable['output_type'] = 'display_data';\n",
              "          await google.colab.output.renderOutput(dataTable, element);\n",
              "          const docLink = document.createElement('div');\n",
              "          docLink.innerHTML = docLinkHtml;\n",
              "          element.appendChild(docLink);\n",
              "        }\n",
              "      </script>\n",
              "    </div>\n",
              "  </div>\n",
              "  "
            ]
          },
          "metadata": {},
          "execution_count": 71
        }
      ]
    },
    {
      "cell_type": "code",
      "source": [
        "ft_embd_1 = list(final.loc[final['coef']!=0,'name'])\n",
        "rf.fit(x_train.loc[:,ft_embd_1],y_train) #65개\n",
        "pred = rf.predict(x_test.loc[:,ft_embd_1])\n",
        "\n",
        "print(classification_report(y_test, pred)) # 성능 100퍼센트.."
      ],
      "metadata": {
        "colab": {
          "base_uri": "https://localhost:8080/"
        },
        "id": "2qd_5cYmdUjp",
        "outputId": "14251aad-9a1d-4db5-a958-f24b1a17c427"
      },
      "execution_count": null,
      "outputs": [
        {
          "output_type": "stream",
          "name": "stdout",
          "text": [
            "              precision    recall  f1-score   support\n",
            "\n",
            "         0.0       1.00      1.00      1.00        12\n",
            "         1.0       1.00      1.00      1.00       106\n",
            "\n",
            "    accuracy                           1.00       118\n",
            "   macro avg       1.00      1.00      1.00       118\n",
            "weighted avg       1.00      1.00      1.00       118\n",
            "\n"
          ]
        }
      ]
    },
    {
      "cell_type": "code",
      "source": [
        "set(embedded_1) & set(ft_embd_1) #17개"
      ],
      "metadata": {
        "colab": {
          "base_uri": "https://localhost:8080/"
        },
        "id": "9uxluFFujdpY",
        "outputId": "f916e330-cdf9-481b-bd7b-1e593a242b03"
      },
      "execution_count": null,
      "outputs": [
        {
          "output_type": "execute_result",
          "data": {
            "text/plain": [
              "{'ACVR1C',\n",
              " 'AKR1C1',\n",
              " 'ARHGAP20',\n",
              " 'CA4',\n",
              " 'CAV1',\n",
              " 'CES1',\n",
              " 'CNTNAP3',\n",
              " 'COL10A1',\n",
              " 'COL11A1',\n",
              " 'CXCL2',\n",
              " 'CXCL3',\n",
              " 'FGFBP1',\n",
              " 'FIGF',\n",
              " 'GPD1',\n",
              " 'HAS3',\n",
              " 'HOXA4',\n",
              " 'IGSF10',\n",
              " 'INHBA',\n",
              " 'KIF4A',\n",
              " 'LGALS12',\n",
              " 'LRRC3B',\n",
              " 'MKI67',\n",
              " 'MMP11',\n",
              " 'PACSIN1',\n",
              " 'PAQR4',\n",
              " 'PARP1',\n",
              " 'RDH5',\n",
              " 'SCN2B',\n",
              " 'TACC3',\n",
              " 'WDR51A',\n",
              " 'WISP1'}"
            ]
          },
          "metadata": {},
          "execution_count": 73
        }
      ]
    },
    {
      "cell_type": "markdown",
      "source": [
        "### 3. Filter + Embedded + Wrapper ( RFE )"
      ],
      "metadata": {
        "id": "p36IO0UobmbI"
      }
    },
    {
      "cell_type": "code",
      "source": [
        "from sklearn.feature_selection import RFE, RFECV"
      ],
      "metadata": {
        "id": "URrwD1dlmfgN"
      },
      "execution_count": null,
      "outputs": []
    },
    {
      "cell_type": "code",
      "source": [
        "X2 = data_scale.loc[:,ft_embd_1]\n",
        "Y2 = data_scale.loc[:,'label']"
      ],
      "metadata": {
        "id": "h-oGrnUpnItD"
      },
      "execution_count": null,
      "outputs": []
    },
    {
      "cell_type": "code",
      "source": [
        "#1 random forest\n",
        "rf = RF(random_state=1208,class_weight='balanced')\n",
        "\n",
        "min_features_to_select = 10\n",
        "step = 1\n",
        "\n",
        "selector = RFECV(rf, step=step, cv=StratifiedKFold(5),scoring='recall_macro',\n",
        "                 min_features_to_select=min_features_to_select)\n",
        "selector = selector.fit(X2, Y2)\n",
        "\n",
        "print(\"변수개수 : %d\" % selector.n_features_)\n",
        "selector.support_.sum()\n",
        "\n",
        "plt.figure()\n",
        "plt.xlabel(\"Number of features selected\")\n",
        "plt.ylabel(\"Cross validation score\")\n",
        "plt.errorbar(\n",
        "    range(min_features_to_select, len(selector.grid_scores_)*step + min_features_to_select, step),\n",
        "    selector.cv_results_[\"mean_test_score\"]\n",
        ")\n",
        "plt.show()"
      ],
      "metadata": {
        "id": "tNDt_AWZvA5k",
        "colab": {
          "base_uri": "https://localhost:8080/",
          "height": 336
        },
        "outputId": "af83f1d5-a858-41fb-98ce-05e1919b93cb"
      },
      "execution_count": null,
      "outputs": [
        {
          "output_type": "stream",
          "name": "stdout",
          "text": [
            "변수개수 : 23\n"
          ]
        },
        {
          "output_type": "stream",
          "name": "stderr",
          "text": [
            "/usr/local/lib/python3.8/dist-packages/sklearn/utils/deprecation.py:103: FutureWarning: The `grid_scores_` attribute is deprecated in version 1.0 in favor of `cv_results_` and will be removed in version 1.2.\n",
            "  warnings.warn(msg, category=FutureWarning)\n"
          ]
        },
        {
          "output_type": "display_data",
          "data": {
            "text/plain": [
              "<Figure size 432x288 with 1 Axes>"
            ],
            "image/png": "[encoded data removed]"
          },
          "metadata": {
            "needs_background": "light"
          }
        }
      ]
    },
    {
      "cell_type": "code",
      "source": [
        "rf_rfe = selector.get_feature_names_out(X2.columns)\n",
        "\n",
        "rf.fit(x_train.loc[:,rf_rfe],y_train) #23개\n",
        "pred = rf.predict(x_test.loc[:,rf_rfe])\n",
        "\n",
        "print(classification_report(y_test, pred)) # 성능 100퍼센트.. "
      ],
      "metadata": {
        "colab": {
          "base_uri": "https://localhost:8080/"
        },
        "id": "Q0-2IWJaZPKL",
        "outputId": "50346250-7a36-4038-d045-afb4856df63a"
      },
      "execution_count": null,
      "outputs": [
        {
          "output_type": "stream",
          "name": "stdout",
          "text": [
            "              precision    recall  f1-score   support\n",
            "\n",
            "         0.0       1.00      1.00      1.00        12\n",
            "         1.0       1.00      1.00      1.00       106\n",
            "\n",
            "    accuracy                           1.00       118\n",
            "   macro avg       1.00      1.00      1.00       118\n",
            "weighted avg       1.00      1.00      1.00       118\n",
            "\n"
          ]
        }
      ]
    },
    {
      "cell_type": "code",
      "source": [
        "#2 adaboost\n",
        "from sklearn.ensemble import AdaBoostClassifier\n",
        "ada = AdaBoostClassifier(random_state=1208)\n",
        "\n",
        "min_features_to_select = 5\n",
        "step = 1\n",
        "\n",
        "selector = RFECV(ada, step=step, cv=StratifiedKFold(5),scoring='recall_macro',\n",
        "                 min_features_to_select=min_features_to_select)\n",
        "selector = selector.fit(X2, Y2)\n",
        "\n",
        "print(\"변수개수 : %d\" % selector.n_features_)\n",
        "selector.support_.sum()\n",
        "\n",
        "plt.figure()\n",
        "plt.xlabel(\"Number of features selected\")\n",
        "plt.ylabel(\"Cross validation score\")\n",
        "plt.errorbar(\n",
        "    range(min_features_to_select, len(selector.grid_scores_)*step + min_features_to_select, step),\n",
        "    selector.cv_results_[\"mean_test_score\"]\n",
        ")\n",
        "plt.show()"
      ],
      "metadata": {
        "colab": {
          "base_uri": "https://localhost:8080/",
          "height": 336
        },
        "id": "GTFis9CqUzSg",
        "outputId": "74db3217-6011-458f-fb26-c006ce15cae9"
      },
      "execution_count": null,
      "outputs": [
        {
          "output_type": "stream",
          "name": "stdout",
          "text": [
            "변수개수 : 8\n"
          ]
        },
        {
          "output_type": "stream",
          "name": "stderr",
          "text": [
            "/usr/local/lib/python3.8/dist-packages/sklearn/utils/deprecation.py:103: FutureWarning: The `grid_scores_` attribute is deprecated in version 1.0 in favor of `cv_results_` and will be removed in version 1.2.\n",
            "  warnings.warn(msg, category=FutureWarning)\n"
          ]
        },
        {
          "output_type": "display_data",
          "data": {
            "text/plain": [
              "<Figure size 432x288 with 1 Axes>"
            ],
            "image/png": "[encoded data removed]"
          },
          "metadata": {
            "needs_background": "light"
          }
        }
      ]
    },
    {
      "cell_type": "code",
      "source": [
        "ada_rfe = selector.get_feature_names_out(X2.columns)\n",
        "\n",
        "rf.fit(x_train.loc[:,ada_rfe],y_train) #8개\n",
        "pred = rf.predict(x_test.loc[:,ada_rfe])\n",
        "\n",
        "print(classification_report(y_test, pred)) # 성능 100퍼센트.. "
      ],
      "metadata": {
        "colab": {
          "base_uri": "https://localhost:8080/"
        },
        "id": "PFuGiNBm2FwS",
        "outputId": "009e7a0d-eec5-4134-994f-4ec53065f2c6"
      },
      "execution_count": null,
      "outputs": [
        {
          "output_type": "stream",
          "name": "stdout",
          "text": [
            "              precision    recall  f1-score   support\n",
            "\n",
            "         0.0       1.00      1.00      1.00        12\n",
            "         1.0       1.00      1.00      1.00       106\n",
            "\n",
            "    accuracy                           1.00       118\n",
            "   macro avg       1.00      1.00      1.00       118\n",
            "weighted avg       1.00      1.00      1.00       118\n",
            "\n"
          ]
        }
      ]
    },
    {
      "cell_type": "code",
      "source": [
        "#3 decision tree\n",
        "from sklearn.tree import DecisionTreeClassifier\n",
        "dt = DecisionTreeClassifier(random_state=1208)\n",
        "\n",
        "min_features_to_select = 10\n",
        "step = 1\n",
        "\n",
        "selector = RFECV(dt, step=step, cv=StratifiedKFold(5),scoring='recall_macro',\n",
        "                 min_features_to_select=min_features_to_select)\n",
        "selector = selector.fit(X2, Y2)\n",
        "\n",
        "print(\"변수개수: %d\" % selector.n_features_)\n",
        "selector.support_.sum()\n",
        "\n",
        "plt.figure()\n",
        "plt.xlabel(\"Number of features selected\")\n",
        "plt.ylabel(\"Cross validation score\")\n",
        "plt.errorbar(\n",
        "    range(min_features_to_select, len(selector.grid_scores_)*step + min_features_to_select, step),\n",
        "    selector.cv_results_[\"mean_test_score\"]\n",
        ")\n",
        "plt.show()"
      ],
      "metadata": {
        "colab": {
          "base_uri": "https://localhost:8080/",
          "height": 336
        },
        "id": "-qzpePkXstbc",
        "outputId": "c4f202fa-32f2-4121-8404-72d25509f0c9"
      },
      "execution_count": null,
      "outputs": [
        {
          "output_type": "stream",
          "name": "stdout",
          "text": [
            "변수개수: 34\n"
          ]
        },
        {
          "output_type": "stream",
          "name": "stderr",
          "text": [
            "/usr/local/lib/python3.8/dist-packages/sklearn/utils/deprecation.py:103: FutureWarning: The `grid_scores_` attribute is deprecated in version 1.0 in favor of `cv_results_` and will be removed in version 1.2.\n",
            "  warnings.warn(msg, category=FutureWarning)\n"
          ]
        },
        {
          "output_type": "display_data",
          "data": {
            "text/plain": [
              "<Figure size 432x288 with 1 Axes>"
            ],
            "image/png": "[encoded data removed]"
          },
          "metadata": {
            "needs_background": "light"
          }
        }
      ]
    },
    {
      "cell_type": "code",
      "source": [
        "dt_rfe = selector.get_feature_names_out(X2.columns)\n",
        "\n",
        "rf.fit(x_train.loc[:,dt_rfe],y_train) #34개\n",
        "pred = rf.predict(x_test.loc[:,dt_rfe])\n",
        "\n",
        "print(classification_report(y_test, pred)) # 성능 100퍼센트.. "
      ],
      "metadata": {
        "colab": {
          "base_uri": "https://localhost:8080/"
        },
        "id": "-A7DecNftOUM",
        "outputId": "1721f570-f4c1-48a9-abf1-6e24f5d164c9"
      },
      "execution_count": null,
      "outputs": [
        {
          "output_type": "stream",
          "name": "stdout",
          "text": [
            "              precision    recall  f1-score   support\n",
            "\n",
            "         0.0       1.00      1.00      1.00        12\n",
            "         1.0       1.00      1.00      1.00       106\n",
            "\n",
            "    accuracy                           1.00       118\n",
            "   macro avg       1.00      1.00      1.00       118\n",
            "weighted avg       1.00      1.00      1.00       118\n",
            "\n"
          ]
        }
      ]
    },
    {
      "cell_type": "code",
      "source": [
        "#4 SVM\n",
        "from sklearn.svm import SVC\n",
        "svc = SVC(random_state=1208,kernel='linear')\n",
        "\n",
        "min_features_to_select = 5\n",
        "step = 1\n",
        "\n",
        "selector = RFECV(svc, step=step, cv=StratifiedKFold(5),scoring='recall_macro',\n",
        "                 min_features_to_select=min_features_to_select)\n",
        "selector = selector.fit(X2, Y2)\n",
        "\n",
        "print(\"변수개수 : %d\" % selector.n_features_)\n",
        "selector.support_.sum()\n",
        "\n",
        "plt.figure()\n",
        "plt.xlabel(\"Number of features selected\")\n",
        "plt.ylabel(\"Cross validation score\")\n",
        "plt.errorbar(\n",
        "    range(min_features_to_select, len(selector.grid_scores_)*step + min_features_to_select, step),\n",
        "    selector.cv_results_[\"mean_test_score\"]\n",
        ")\n",
        "plt.show()"
      ],
      "metadata": {
        "colab": {
          "base_uri": "https://localhost:8080/",
          "height": 336
        },
        "id": "h_JSgY8-toHc",
        "outputId": "baa8df66-059e-4b2e-dd84-bdc4f1b2759e"
      },
      "execution_count": null,
      "outputs": [
        {
          "output_type": "stream",
          "name": "stdout",
          "text": [
            "변수개수 : 6\n"
          ]
        },
        {
          "output_type": "stream",
          "name": "stderr",
          "text": [
            "/usr/local/lib/python3.8/dist-packages/sklearn/utils/deprecation.py:103: FutureWarning: The `grid_scores_` attribute is deprecated in version 1.0 in favor of `cv_results_` and will be removed in version 1.2.\n",
            "  warnings.warn(msg, category=FutureWarning)\n"
          ]
        },
        {
          "output_type": "display_data",
          "data": {
            "text/plain": [
              "<Figure size 432x288 with 1 Axes>"
            ],
            "image/png": "[encoded data removed]"
          },
          "metadata": {
            "needs_background": "light"
          }
        }
      ]
    },
    {
      "cell_type": "code",
      "source": [
        "svc_rfe = selector.get_feature_names_out(X2.columns)\n",
        "\n",
        "rf.fit(x_train.loc[:,svc_rfe],y_train) #6개\n",
        "pred = rf.predict(x_test.loc[:,svc_rfe])\n",
        "\n",
        "print(classification_report(y_test, pred)) # 성능 100퍼센트.. "
      ],
      "metadata": {
        "colab": {
          "base_uri": "https://localhost:8080/"
        },
        "id": "BylDhb0OuD8E",
        "outputId": "573d7fc6-c3ca-466f-b012-20c5545f869a"
      },
      "execution_count": null,
      "outputs": [
        {
          "output_type": "stream",
          "name": "stdout",
          "text": [
            "              precision    recall  f1-score   support\n",
            "\n",
            "         0.0       1.00      1.00      1.00        12\n",
            "         1.0       1.00      1.00      1.00       106\n",
            "\n",
            "    accuracy                           1.00       118\n",
            "   macro avg       1.00      1.00      1.00       118\n",
            "weighted avg       1.00      1.00      1.00       118\n",
            "\n"
          ]
        }
      ]
    },
    {
      "cell_type": "code",
      "source": [
        "print(set(svc_rfe) & set(dt_rfe) & set(ada_rfe) & set(rf_rfe)) #전체 교집합\n",
        "print(set(dt_rfe) & set(ada_rfe) & set(rf_rfe))\n",
        "print(set(svc_rfe) & set(rf_rfe)) \n",
        "print(set(svc_rfe) & set(dt_rfe)) \n",
        "print(set(svc_rfe) & set(ada_rfe))"
      ],
      "metadata": {
        "colab": {
          "base_uri": "https://localhost:8080/"
        },
        "id": "oG_vONf2uaP0",
        "outputId": "ed2fba36-3756-4a62-af2f-1569a948a6a1"
      },
      "execution_count": null,
      "outputs": [
        {
          "output_type": "stream",
          "name": "stdout",
          "text": [
            "set()\n",
            "{'MMP11', 'HOXA4', 'CAV1', 'ANXA1'}\n",
            "{'COL10A1', 'WISP1', 'WDR51A', 'CA4'}\n",
            "{'WISP1', 'CCDC36'}\n",
            "{'COL10A1', 'WDR51A', 'CA4'}\n"
          ]
        }
      ]
    },
    {
      "cell_type": "code",
      "source": [
        "bc_RNA = list(set(svc_rfe) | set(dt_rfe) | set(ada_rfe) | set(rf_rfe))\n",
        "len(bc_RNA)"
      ],
      "metadata": {
        "colab": {
          "base_uri": "https://localhost:8080/"
        },
        "id": "1T5VD1MTuwLF",
        "outputId": "d4c4afb4-185c-4595-a126-ba89f35d5934"
      },
      "execution_count": null,
      "outputs": [
        {
          "output_type": "execute_result",
          "data": {
            "text/plain": [
              "45"
            ]
          },
          "metadata": {},
          "execution_count": 85
        }
      ]
    },
    {
      "cell_type": "code",
      "source": [
        "#트리 시각화\n",
        "from graphviz import Source\n",
        "from sklearn.tree import export_graphviz\n",
        "\n",
        "rf.fit(x_train.loc[:,rf_rfe],y_train) #6개\n",
        "estimator = rf.estimators_[3]\n",
        "\n",
        "export_graphviz(estimator,\n",
        "                out_file=os.path.join(IMAGES_PATH, \"rf_tree3.dot\"),\n",
        "                feature_names = x_train.loc[:,rf_rfe].columns,\n",
        "                class_names = ['1','0'],\n",
        "                max_depth = 3,\n",
        "                precision = 3,\n",
        "                filled = True,\n",
        "                rounded=True, \n",
        "               )\n",
        "Source.from_file(os.path.join(IMAGES_PATH, \"rf_tree3.dot\"))"
      ],
      "metadata": {
        "colab": {
          "base_uri": "https://localhost:8080/",
          "height": 598
        },
        "id": "u3g7zimMaTHH",
        "outputId": "8f410a71-3778-441c-ff1a-2bfaca44f618"
      },
      "execution_count": null,
      "outputs": [
        {
          "output_type": "execute_result",
          "data": {
            "text/plain": [
              "<graphviz.files.Source at 0x7f30d97ec8e0>"
            ],
            "image/svg+xml": "<?xml version=\"1.0\" encoding=\"UTF-8\" standalone=\"no\"?>\n<!DOCTYPE svg PUBLIC \"-//W3C//DTD SVG 1.1//EN\"\n \"http://www.w3.org/Graphics/SVG/1.1/DTD/svg11.dtd\">\n<!-- Generated by graphviz version 2.40.1 (20161225.0304)\n -->\n<!-- Title: Tree Pages: 1 -->\n<svg width=\"749pt\" height=\"433pt\"\n viewBox=\"0.00 0.00 749.00 433.00\" xmlns=\"http://www.w3.org/2000/svg\" xmlns:xlink=\"http://www.w3.org/1999/xlink\">\n<g id=\"graph0\" class=\"graph\" transform=\"scale(1 1) rotate(0) translate(4 429)\">\n<title>Tree</title>\n<polygon fill=\"#ffffff\" stroke=\"transparent\" points=\"-4,4 -4,-429 745,-429 745,4 -4,4\"/>\n<!-- 0 -->\n<g id=\"node1\" class=\"node\">\n<title>0</title>\n<path fill=\"#fcf0e7\" stroke=\"#000000\" d=\"M406.5,-425C406.5,-425 241.5,-425 241.5,-425 235.5,-425 229.5,-419 229.5,-413 229.5,-413 229.5,-354 229.5,-354 229.5,-348 235.5,-342 241.5,-342 241.5,-342 406.5,-342 406.5,-342 412.5,-342 418.5,-348 418.5,-354 418.5,-354 418.5,-413 418.5,-413 418.5,-419 412.5,-425 406.5,-425\"/>\n<text text-anchor=\"middle\" x=\"324\" y=\"-409.8\" font-family=\"Helvetica,sans-Serif\" font-size=\"14.00\" fill=\"#000000\">PAQR4 &lt;= 0.275</text>\n<text text-anchor=\"middle\" x=\"324\" y=\"-394.8\" font-family=\"Helvetica,sans-Serif\" font-size=\"14.00\" fill=\"#000000\">gini = 0.498</text>\n<text text-anchor=\"middle\" x=\"324\" y=\"-379.8\" font-family=\"Helvetica,sans-Serif\" font-size=\"14.00\" fill=\"#000000\">samples = 299</text>\n<text text-anchor=\"middle\" x=\"324\" y=\"-364.8\" font-family=\"Helvetica,sans-Serif\" font-size=\"14.00\" fill=\"#000000\">value = [264.898, 232.652]</text>\n<text text-anchor=\"middle\" x=\"324\" y=\"-349.8\" font-family=\"Helvetica,sans-Serif\" font-size=\"14.00\" fill=\"#000000\">class = 1</text>\n</g>\n<!-- 1 -->\n<g id=\"node2\" class=\"node\">\n<title>1</title>\n<path fill=\"#e5833c\" stroke=\"#000000\" d=\"M303.5,-306C303.5,-306 154.5,-306 154.5,-306 148.5,-306 142.5,-300 142.5,-294 142.5,-294 142.5,-235 142.5,-235 142.5,-229 148.5,-223 154.5,-223 154.5,-223 303.5,-223 303.5,-223 309.5,-223 315.5,-229 315.5,-235 315.5,-235 315.5,-294 315.5,-294 315.5,-300 309.5,-306 303.5,-306\"/>\n<text text-anchor=\"middle\" x=\"229\" y=\"-290.8\" font-family=\"Helvetica,sans-Serif\" font-size=\"14.00\" fill=\"#000000\">HOXA4 &lt;= 0.708</text>\n<text text-anchor=\"middle\" x=\"229\" y=\"-275.8\" font-family=\"Helvetica,sans-Serif\" font-size=\"14.00\" fill=\"#000000\">gini = 0.026</text>\n<text text-anchor=\"middle\" x=\"229\" y=\"-260.8\" font-family=\"Helvetica,sans-Serif\" font-size=\"14.00\" fill=\"#000000\">samples = 34</text>\n<text text-anchor=\"middle\" x=\"229\" y=\"-245.8\" font-family=\"Helvetica,sans-Serif\" font-size=\"14.00\" fill=\"#000000\">value = [255.265, 3.348]</text>\n<text text-anchor=\"middle\" x=\"229\" y=\"-230.8\" font-family=\"Helvetica,sans-Serif\" font-size=\"14.00\" fill=\"#000000\">class = 1</text>\n</g>\n<!-- 0&#45;&gt;1 -->\n<g id=\"edge1\" class=\"edge\">\n<title>0&#45;&gt;1</title>\n<path fill=\"none\" stroke=\"#000000\" d=\"M290.7736,-341.8796C283.6556,-332.9633 276.0661,-323.4565 268.7308,-314.268\"/>\n<polygon fill=\"#000000\" stroke=\"#000000\" points=\"271.3425,-311.9295 262.3682,-306.2981 265.8719,-316.2968 271.3425,-311.9295\"/>\n<text text-anchor=\"middle\" x=\"259.5819\" y=\"-327.4423\" font-family=\"Helvetica,sans-Serif\" font-size=\"14.00\" fill=\"#000000\">True</text>\n</g>\n<!-- 4 -->\n<g id=\"node5\" class=\"node\">\n<title>4</title>\n<path fill=\"#41a1e6\" stroke=\"#000000\" d=\"M494.5,-306C494.5,-306 345.5,-306 345.5,-306 339.5,-306 333.5,-300 333.5,-294 333.5,-294 333.5,-235 333.5,-235 333.5,-229 339.5,-223 345.5,-223 345.5,-223 494.5,-223 494.5,-223 500.5,-223 506.5,-229 506.5,-235 506.5,-235 506.5,-294 506.5,-294 506.5,-300 500.5,-306 494.5,-306\"/>\n<text text-anchor=\"middle\" x=\"420\" y=\"-290.8\" font-family=\"Helvetica,sans-Serif\" font-size=\"14.00\" fill=\"#000000\">COL10A1 &lt;= 0.15</text>\n<text text-anchor=\"middle\" x=\"420\" y=\"-275.8\" font-family=\"Helvetica,sans-Serif\" font-size=\"14.00\" fill=\"#000000\">gini = 0.077</text>\n<text text-anchor=\"middle\" x=\"420\" y=\"-260.8\" font-family=\"Helvetica,sans-Serif\" font-size=\"14.00\" fill=\"#000000\">samples = 265</text>\n<text text-anchor=\"middle\" x=\"420\" y=\"-245.8\" font-family=\"Helvetica,sans-Serif\" font-size=\"14.00\" fill=\"#000000\">value = [9.633, 229.305]</text>\n<text text-anchor=\"middle\" x=\"420\" y=\"-230.8\" font-family=\"Helvetica,sans-Serif\" font-size=\"14.00\" fill=\"#000000\">class = 0</text>\n</g>\n<!-- 0&#45;&gt;4 -->\n<g id=\"edge4\" class=\"edge\">\n<title>0&#45;&gt;4</title>\n<path fill=\"none\" stroke=\"#000000\" d=\"M357.5761,-341.8796C364.7691,-332.9633 372.4384,-323.4565 379.851,-314.268\"/>\n<polygon fill=\"#000000\" stroke=\"#000000\" points=\"382.7258,-316.2788 386.2805,-306.2981 377.2776,-311.8836 382.7258,-316.2788\"/>\n<text text-anchor=\"middle\" x=\"388.9398\" y=\"-327.4562\" font-family=\"Helvetica,sans-Serif\" font-size=\"14.00\" fill=\"#000000\">False</text>\n</g>\n<!-- 2 -->\n<g id=\"node3\" class=\"node\">\n<title>2</title>\n<path fill=\"#399de5\" stroke=\"#000000\" d=\"M128,-179.5C128,-179.5 12,-179.5 12,-179.5 6,-179.5 0,-173.5 0,-167.5 0,-167.5 0,-123.5 0,-123.5 0,-117.5 6,-111.5 12,-111.5 12,-111.5 128,-111.5 128,-111.5 134,-111.5 140,-117.5 140,-123.5 140,-123.5 140,-167.5 140,-167.5 140,-173.5 134,-179.5 128,-179.5\"/>\n<text text-anchor=\"middle\" x=\"70\" y=\"-164.3\" font-family=\"Helvetica,sans-Serif\" font-size=\"14.00\" fill=\"#000000\">gini = 0.0</text>\n<text text-anchor=\"middle\" x=\"70\" y=\"-149.3\" font-family=\"Helvetica,sans-Serif\" font-size=\"14.00\" fill=\"#000000\">samples = 4</text>\n<text text-anchor=\"middle\" x=\"70\" y=\"-134.3\" font-family=\"Helvetica,sans-Serif\" font-size=\"14.00\" fill=\"#000000\">value = [0.0, 3.348]</text>\n<text text-anchor=\"middle\" x=\"70\" y=\"-119.3\" font-family=\"Helvetica,sans-Serif\" font-size=\"14.00\" fill=\"#000000\">class = 0</text>\n</g>\n<!-- 1&#45;&gt;2 -->\n<g id=\"edge2\" class=\"edge\">\n<title>1&#45;&gt;2</title>\n<path fill=\"none\" stroke=\"#000000\" d=\"M173.3895,-222.8796C157.2987,-210.8368 139.7685,-197.7167 123.7909,-185.7586\"/>\n<polygon fill=\"#000000\" stroke=\"#000000\" points=\"125.6962,-182.8129 115.593,-179.623 121.5018,-188.4171 125.6962,-182.8129\"/>\n</g>\n<!-- 3 -->\n<g id=\"node4\" class=\"node\">\n<title>3</title>\n<path fill=\"#e58139\" stroke=\"#000000\" d=\"M302,-179.5C302,-179.5 170,-179.5 170,-179.5 164,-179.5 158,-173.5 158,-167.5 158,-167.5 158,-123.5 158,-123.5 158,-117.5 164,-111.5 170,-111.5 170,-111.5 302,-111.5 302,-111.5 308,-111.5 314,-117.5 314,-123.5 314,-123.5 314,-167.5 314,-167.5 314,-173.5 308,-179.5 302,-179.5\"/>\n<text text-anchor=\"middle\" x=\"236\" y=\"-164.3\" font-family=\"Helvetica,sans-Serif\" font-size=\"14.00\" fill=\"#000000\">gini = &#45;0.0</text>\n<text text-anchor=\"middle\" x=\"236\" y=\"-149.3\" font-family=\"Helvetica,sans-Serif\" font-size=\"14.00\" fill=\"#000000\">samples = 30</text>\n<text text-anchor=\"middle\" x=\"236\" y=\"-134.3\" font-family=\"Helvetica,sans-Serif\" font-size=\"14.00\" fill=\"#000000\">value = [255.265, 0.0]</text>\n<text text-anchor=\"middle\" x=\"236\" y=\"-119.3\" font-family=\"Helvetica,sans-Serif\" font-size=\"14.00\" fill=\"#000000\">class = 1</text>\n</g>\n<!-- 1&#45;&gt;3 -->\n<g id=\"edge3\" class=\"edge\">\n<title>1&#45;&gt;3</title>\n<path fill=\"none\" stroke=\"#000000\" d=\"M231.4483,-222.8796C232.0757,-212.2134 232.7528,-200.7021 233.3881,-189.9015\"/>\n<polygon fill=\"#000000\" stroke=\"#000000\" points=\"236.8881,-190.0032 233.9815,-179.8149 229.9002,-189.5921 236.8881,-190.0032\"/>\n</g>\n<!-- 5 -->\n<g id=\"node6\" class=\"node\">\n<title>5</title>\n<path fill=\"#e58139\" stroke=\"#000000\" d=\"M472,-179.5C472,-179.5 356,-179.5 356,-179.5 350,-179.5 344,-173.5 344,-167.5 344,-167.5 344,-123.5 344,-123.5 344,-117.5 350,-111.5 356,-111.5 356,-111.5 472,-111.5 472,-111.5 478,-111.5 484,-117.5 484,-123.5 484,-123.5 484,-167.5 484,-167.5 484,-173.5 478,-179.5 472,-179.5\"/>\n<text text-anchor=\"middle\" x=\"414\" y=\"-164.3\" font-family=\"Helvetica,sans-Serif\" font-size=\"14.00\" fill=\"#000000\">gini = 0.0</text>\n<text text-anchor=\"middle\" x=\"414\" y=\"-149.3\" font-family=\"Helvetica,sans-Serif\" font-size=\"14.00\" fill=\"#000000\">samples = 2</text>\n<text text-anchor=\"middle\" x=\"414\" y=\"-134.3\" font-family=\"Helvetica,sans-Serif\" font-size=\"14.00\" fill=\"#000000\">value = [9.633, 0.0]</text>\n<text text-anchor=\"middle\" x=\"414\" y=\"-119.3\" font-family=\"Helvetica,sans-Serif\" font-size=\"14.00\" fill=\"#000000\">class = 1</text>\n</g>\n<!-- 4&#45;&gt;5 -->\n<g id=\"edge5\" class=\"edge\">\n<title>4&#45;&gt;5</title>\n<path fill=\"none\" stroke=\"#000000\" d=\"M417.9015,-222.8796C417.3637,-212.2134 416.7833,-200.7021 416.2387,-189.9015\"/>\n<polygon fill=\"#000000\" stroke=\"#000000\" points=\"419.7294,-189.626 415.7302,-179.8149 412.7383,-189.9785 419.7294,-189.626\"/>\n</g>\n<!-- 6 -->\n<g id=\"node7\" class=\"node\">\n<title>6</title>\n<path fill=\"#399de5\" stroke=\"#000000\" d=\"M646,-187C646,-187 514,-187 514,-187 508,-187 502,-181 502,-175 502,-175 502,-116 502,-116 502,-110 508,-104 514,-104 514,-104 646,-104 646,-104 652,-104 658,-110 658,-116 658,-116 658,-175 658,-175 658,-181 652,-187 646,-187\"/>\n<text text-anchor=\"middle\" x=\"580\" y=\"-171.8\" font-family=\"Helvetica,sans-Serif\" font-size=\"14.00\" fill=\"#000000\">MKI67 &lt;= 0.169</text>\n<text text-anchor=\"middle\" x=\"580\" y=\"-156.8\" font-family=\"Helvetica,sans-Serif\" font-size=\"14.00\" fill=\"#000000\">gini = 0.0</text>\n<text text-anchor=\"middle\" x=\"580\" y=\"-141.8\" font-family=\"Helvetica,sans-Serif\" font-size=\"14.00\" fill=\"#000000\">samples = 263</text>\n<text text-anchor=\"middle\" x=\"580\" y=\"-126.8\" font-family=\"Helvetica,sans-Serif\" font-size=\"14.00\" fill=\"#000000\">value = [0.0, 229.305]</text>\n<text text-anchor=\"middle\" x=\"580\" y=\"-111.8\" font-family=\"Helvetica,sans-Serif\" font-size=\"14.00\" fill=\"#000000\">class = 0</text>\n</g>\n<!-- 4&#45;&gt;6 -->\n<g id=\"edge6\" class=\"edge\">\n<title>4&#45;&gt;6</title>\n<path fill=\"none\" stroke=\"#000000\" d=\"M475.9602,-222.8796C488.8708,-213.2774 502.7021,-202.9903 515.9282,-193.1534\"/>\n<polygon fill=\"#000000\" stroke=\"#000000\" points=\"518.1361,-195.8732 524.0714,-187.0969 513.9586,-190.2564 518.1361,-195.8732\"/>\n</g>\n<!-- 7 -->\n<g id=\"node8\" class=\"node\">\n<title>7</title>\n<path fill=\"#399de5\" stroke=\"#000000\" d=\"M555,-68C555,-68 439,-68 439,-68 433,-68 427,-62 427,-56 427,-56 427,-12 427,-12 427,-6 433,0 439,0 439,0 555,0 555,0 561,0 567,-6 567,-12 567,-12 567,-56 567,-56 567,-62 561,-68 555,-68\"/>\n<text text-anchor=\"middle\" x=\"497\" y=\"-52.8\" font-family=\"Helvetica,sans-Serif\" font-size=\"14.00\" fill=\"#000000\">gini = 0.0</text>\n<text text-anchor=\"middle\" x=\"497\" y=\"-37.8\" font-family=\"Helvetica,sans-Serif\" font-size=\"14.00\" fill=\"#000000\">samples = 1</text>\n<text text-anchor=\"middle\" x=\"497\" y=\"-22.8\" font-family=\"Helvetica,sans-Serif\" font-size=\"14.00\" fill=\"#000000\">value = [0.0, 0.558]</text>\n<text text-anchor=\"middle\" x=\"497\" y=\"-7.8\" font-family=\"Helvetica,sans-Serif\" font-size=\"14.00\" fill=\"#000000\">class = 0</text>\n</g>\n<!-- 6&#45;&gt;7 -->\n<g id=\"edge7\" class=\"edge\">\n<title>6&#45;&gt;7</title>\n<path fill=\"none\" stroke=\"#000000\" d=\"M549.0939,-103.9815C542.3892,-94.9747 535.2892,-85.4367 528.5597,-76.3965\"/>\n<polygon fill=\"#000000\" stroke=\"#000000\" points=\"531.2845,-74.1953 522.5057,-68.2637 525.6694,-78.3752 531.2845,-74.1953\"/>\n</g>\n<!-- 8 -->\n<g id=\"node9\" class=\"node\">\n<title>8</title>\n<path fill=\"#399de5\" stroke=\"#000000\" d=\"M729,-68C729,-68 597,-68 597,-68 591,-68 585,-62 585,-56 585,-56 585,-12 585,-12 585,-6 591,0 597,0 597,0 729,0 729,0 735,0 741,-6 741,-12 741,-12 741,-56 741,-56 741,-62 735,-68 729,-68\"/>\n<text text-anchor=\"middle\" x=\"663\" y=\"-52.8\" font-family=\"Helvetica,sans-Serif\" font-size=\"14.00\" fill=\"#000000\">gini = 0.0</text>\n<text text-anchor=\"middle\" x=\"663\" y=\"-37.8\" font-family=\"Helvetica,sans-Serif\" font-size=\"14.00\" fill=\"#000000\">samples = 262</text>\n<text text-anchor=\"middle\" x=\"663\" y=\"-22.8\" font-family=\"Helvetica,sans-Serif\" font-size=\"14.00\" fill=\"#000000\">value = [0.0, 228.747]</text>\n<text text-anchor=\"middle\" x=\"663\" y=\"-7.8\" font-family=\"Helvetica,sans-Serif\" font-size=\"14.00\" fill=\"#000000\">class = 0</text>\n</g>\n<!-- 6&#45;&gt;8 -->\n<g id=\"edge8\" class=\"edge\">\n<title>6&#45;&gt;8</title>\n<path fill=\"none\" stroke=\"#000000\" d=\"M610.9061,-103.9815C617.6108,-94.9747 624.7108,-85.4367 631.4403,-76.3965\"/>\n<polygon fill=\"#000000\" stroke=\"#000000\" points=\"634.3306,-78.3752 637.4943,-68.2637 628.7155,-74.1953 634.3306,-78.3752\"/>\n</g>\n</g>\n</svg>\n"
          },
          "metadata": {},
          "execution_count": 86
        }
      ]
    },
    {
      "cell_type": "code",
      "source": [
        "data_scale[['HOXA4','label']].groupby(['label']).mean()"
      ],
      "metadata": {
        "colab": {
          "base_uri": "https://localhost:8080/",
          "height": 142
        },
        "id": "iY6FCgSTeHRT",
        "outputId": "bb90a932-d02e-41b8-a880-2b4bd2bea72a"
      },
      "execution_count": null,
      "outputs": [
        {
          "output_type": "execute_result",
          "data": {
            "text/plain": [
              "          HOXA4\n",
              "label          \n",
              "0.0    0.853878\n",
              "1.0    0.397483"
            ],
            "text/html": [
              "\n",
              "  <div id=\"df-65524cce-1289-4add-a6cd-1c80c86a1b7c\">\n",
              "    <div class=\"colab-df-container\">\n",
              "      <div>\n",
              "<style scoped>\n",
              "    .dataframe tbody tr th:only-of-type {\n",
              "        vertical-align: middle;\n",
              "    }\n",
              "\n",
              "    .dataframe tbody tr th {\n",
              "        vertical-align: top;\n",
              "    }\n",
              "\n",
              "    .dataframe thead th {\n",
              "        text-align: right;\n",
              "    }\n",
              "</style>\n",
              "<table border=\"1\" class=\"dataframe\">\n",
              "  <thead>\n",
              "    <tr style=\"text-align: right;\">\n",
              "      <th></th>\n",
              "      <th>HOXA4</th>\n",
              "    </tr>\n",
              "    <tr>\n",
              "      <th>label</th>\n",
              "      <th></th>\n",
              "    </tr>\n",
              "  </thead>\n",
              "  <tbody>\n",
              "    <tr>\n",
              "      <th>0.0</th>\n",
              "      <td>0.853878</td>\n",
              "    </tr>\n",
              "    <tr>\n",
              "      <th>1.0</th>\n",
              "      <td>0.397483</td>\n",
              "    </tr>\n",
              "  </tbody>\n",
              "</table>\n",
              "</div>\n",
              "      <button class=\"colab-df-convert\" onclick=\"convertToInteractive('df-65524cce-1289-4add-a6cd-1c80c86a1b7c')\"\n",
              "              title=\"Convert this dataframe to an interactive table.\"\n",
              "              style=\"display:none;\">\n",
              "        \n",
              "  <svg xmlns=\"http://www.w3.org/2000/svg\" height=\"24px\"viewBox=\"0 0 24 24\"\n",
              "       width=\"24px\">\n",
              "    <path d=\"M0 0h24v24H0V0z\" fill=\"none\"/>\n",
              "    <path d=\"M18.56 5.44l.94 2.06.94-2.06 2.06-.94-2.06-.94-.94-2.06-.94 2.06-2.06.94zm-11 1L8.5 8.5l.94-2.06 2.06-.94-2.06-.94L8.5 2.5l-.94 2.06-2.06.94zm10 10l.94 2.06.94-2.06 2.06-.94-2.06-.94-.94-2.06-.94 2.06-2.06.94z\"/><path d=\"M17.41 7.96l-1.37-1.37c-.4-.4-.92-.59-1.43-.59-.52 0-1.04.2-1.43.59L10.3 9.45l-7.72 7.72c-.78.78-.78 2.05 0 2.83L4 21.41c.39.39.9.59 1.41.59.51 0 1.02-.2 1.41-.59l7.78-7.78 2.81-2.81c.8-.78.8-2.07 0-2.86zM5.41 20L4 18.59l7.72-7.72 1.47 1.35L5.41 20z\"/>\n",
              "  </svg>\n",
              "      </button>\n",
              "      \n",
              "  <style>\n",
              "    .colab-df-container {\n",
              "      display:flex;\n",
              "      flex-wrap:wrap;\n",
              "      gap: 12px;\n",
              "    }\n",
              "\n",
              "    .colab-df-convert {\n",
              "      background-color: #E8F0FE;\n",
              "      border: none;\n",
              "      border-radius: 50%;\n",
              "      cursor: pointer;\n",
              "      display: none;\n",
              "      fill: #1967D2;\n",
              "      height: 32px;\n",
              "      padding: 0 0 0 0;\n",
              "      width: 32px;\n",
              "    }\n",
              "\n",
              "    .colab-df-convert:hover {\n",
              "      background-color: #E2EBFA;\n",
              "      box-shadow: 0px 1px 2px rgba(60, 64, 67, 0.3), 0px 1px 3px 1px rgba(60, 64, 67, 0.15);\n",
              "      fill: #174EA6;\n",
              "    }\n",
              "\n",
              "    [theme=dark] .colab-df-convert {\n",
              "      background-color: #3B4455;\n",
              "      fill: #D2E3FC;\n",
              "    }\n",
              "\n",
              "    [theme=dark] .colab-df-convert:hover {\n",
              "      background-color: #434B5C;\n",
              "      box-shadow: 0px 1px 3px 1px rgba(0, 0, 0, 0.15);\n",
              "      filter: drop-shadow(0px 1px 2px rgba(0, 0, 0, 0.3));\n",
              "      fill: #FFFFFF;\n",
              "    }\n",
              "  </style>\n",
              "\n",
              "      <script>\n",
              "        const buttonEl =\n",
              "          document.querySelector('#df-65524cce-1289-4add-a6cd-1c80c86a1b7c button.colab-df-convert');\n",
              "        buttonEl.style.display =\n",
              "          google.colab.kernel.accessAllowed ? 'block' : 'none';\n",
              "\n",
              "        async function convertToInteractive(key) {\n",
              "          const element = document.querySelector('#df-65524cce-1289-4add-a6cd-1c80c86a1b7c');\n",
              "          const dataTable =\n",
              "            await google.colab.kernel.invokeFunction('convertToInteractive',\n",
              "                                                     [key], {});\n",
              "          if (!dataTable) return;\n",
              "\n",
              "          const docLinkHtml = 'Like what you see? Visit the ' +\n",
              "            '<a target=\"_blank\" href=https://colab.research.google.com/notebooks/data_table.ipynb>data table notebook</a>'\n",
              "            + ' to learn more about interactive tables.';\n",
              "          element.innerHTML = '';\n",
              "          dataTable['output_type'] = 'display_data';\n",
              "          await google.colab.output.renderOutput(dataTable, element);\n",
              "          const docLink = document.createElement('div');\n",
              "          docLink.innerHTML = docLinkHtml;\n",
              "          element.appendChild(docLink);\n",
              "        }\n",
              "      </script>\n",
              "    </div>\n",
              "  </div>\n",
              "  "
            ]
          },
          "metadata": {},
          "execution_count": 87
        }
      ]
    },
    {
      "cell_type": "code",
      "source": [
        "# decision tree\n",
        "from sklearn.tree import DecisionTreeClassifier\n",
        "dt = DecisionTreeClassifier(random_state=1208)\n",
        "\n",
        "dt.fit(x_train.loc[:,svc_rfe],y_train) #6개\n",
        "\n",
        "export_graphviz(dt,\n",
        "                out_file=os.path.join(IMAGES_PATH, \"svc_tree.dot\"),\n",
        "                feature_names = x_train.loc[:,svc_rfe].columns,\n",
        "                class_names = ['1','0'],\n",
        "                max_depth = 3,\n",
        "                precision = 3,\n",
        "                filled = True,\n",
        "                rounded=True,\n",
        "               )\n",
        "Source.from_file(os.path.join(IMAGES_PATH, \"svc_tree.dot\"))"
      ],
      "metadata": {
        "colab": {
          "base_uri": "https://localhost:8080/",
          "height": 598
        },
        "id": "wAX8GzzQhu92",
        "outputId": "3578e02c-3bb3-493a-a0bd-c2a10de39afa"
      },
      "execution_count": null,
      "outputs": [
        {
          "output_type": "execute_result",
          "data": {
            "text/plain": [
              "<graphviz.files.Source at 0x7f30da3bffa0>"
            ],
            "image/svg+xml": "<?xml version=\"1.0\" encoding=\"UTF-8\" standalone=\"no\"?>\n<!DOCTYPE svg PUBLIC \"-//W3C//DTD SVG 1.1//EN\"\n \"http://www.w3.org/Graphics/SVG/1.1/DTD/svg11.dtd\">\n<!-- Generated by graphviz version 2.40.1 (20161225.0304)\n -->\n<!-- Title: Tree Pages: 1 -->\n<svg width=\"633pt\" height=\"433pt\"\n viewBox=\"0.00 0.00 633.00 433.00\" xmlns=\"http://www.w3.org/2000/svg\" xmlns:xlink=\"http://www.w3.org/1999/xlink\">\n<g id=\"graph0\" class=\"graph\" transform=\"scale(1 1) rotate(0) translate(4 429)\">\n<title>Tree</title>\n<polygon fill=\"#ffffff\" stroke=\"transparent\" points=\"-4,4 -4,-429 629,-429 629,4 -4,4\"/>\n<!-- 0 -->\n<g id=\"node1\" class=\"node\">\n<title>0</title>\n<path fill=\"#50a8e8\" stroke=\"#000000\" d=\"M299.5,-425C299.5,-425 181.5,-425 181.5,-425 175.5,-425 169.5,-419 169.5,-413 169.5,-413 169.5,-354 169.5,-354 169.5,-348 175.5,-342 181.5,-342 181.5,-342 299.5,-342 299.5,-342 305.5,-342 311.5,-348 311.5,-354 311.5,-354 311.5,-413 311.5,-413 311.5,-419 305.5,-425 299.5,-425\"/>\n<text text-anchor=\"middle\" x=\"240.5\" y=\"-409.8\" font-family=\"Helvetica,sans-Serif\" font-size=\"14.00\" fill=\"#000000\">COL10A1 &lt;= 0.357</text>\n<text text-anchor=\"middle\" x=\"240.5\" y=\"-394.8\" font-family=\"Helvetica,sans-Serif\" font-size=\"14.00\" fill=\"#000000\">gini = 0.186</text>\n<text text-anchor=\"middle\" x=\"240.5\" y=\"-379.8\" font-family=\"Helvetica,sans-Serif\" font-size=\"14.00\" fill=\"#000000\">samples = 472</text>\n<text text-anchor=\"middle\" x=\"240.5\" y=\"-364.8\" font-family=\"Helvetica,sans-Serif\" font-size=\"14.00\" fill=\"#000000\">value = [49, 423]</text>\n<text text-anchor=\"middle\" x=\"240.5\" y=\"-349.8\" font-family=\"Helvetica,sans-Serif\" font-size=\"14.00\" fill=\"#000000\">class = 0</text>\n</g>\n<!-- 1 -->\n<g id=\"node2\" class=\"node\">\n<title>1</title>\n<path fill=\"#e78c4b\" stroke=\"#000000\" d=\"M212,-306C212,-306 129,-306 129,-306 123,-306 117,-300 117,-294 117,-294 117,-235 117,-235 117,-229 123,-223 129,-223 129,-223 212,-223 212,-223 218,-223 224,-229 224,-235 224,-235 224,-294 224,-294 224,-300 218,-306 212,-306\"/>\n<text text-anchor=\"middle\" x=\"170.5\" y=\"-290.8\" font-family=\"Helvetica,sans-Serif\" font-size=\"14.00\" fill=\"#000000\">CA4 &lt;= 0.413</text>\n<text text-anchor=\"middle\" x=\"170.5\" y=\"-275.8\" font-family=\"Helvetica,sans-Serif\" font-size=\"14.00\" fill=\"#000000\">gini = 0.15</text>\n<text text-anchor=\"middle\" x=\"170.5\" y=\"-260.8\" font-family=\"Helvetica,sans-Serif\" font-size=\"14.00\" fill=\"#000000\">samples = 49</text>\n<text text-anchor=\"middle\" x=\"170.5\" y=\"-245.8\" font-family=\"Helvetica,sans-Serif\" font-size=\"14.00\" fill=\"#000000\">value = [45, 4]</text>\n<text text-anchor=\"middle\" x=\"170.5\" y=\"-230.8\" font-family=\"Helvetica,sans-Serif\" font-size=\"14.00\" fill=\"#000000\">class = 1</text>\n</g>\n<!-- 0&#45;&gt;1 -->\n<g id=\"edge1\" class=\"edge\">\n<title>0&#45;&gt;1</title>\n<path fill=\"none\" stroke=\"#000000\" d=\"M216.0174,-341.8796C210.9315,-333.2335 205.5189,-324.0322 200.2672,-315.1042\"/>\n<polygon fill=\"#000000\" stroke=\"#000000\" points=\"203.1741,-313.1428 195.0871,-306.2981 197.1406,-316.692 203.1741,-313.1428\"/>\n<text text-anchor=\"middle\" x=\"188.813\" y=\"-326.798\" font-family=\"Helvetica,sans-Serif\" font-size=\"14.00\" fill=\"#000000\">True</text>\n</g>\n<!-- 4 -->\n<g id=\"node5\" class=\"node\">\n<title>4</title>\n<path fill=\"#3b9ee5\" stroke=\"#000000\" d=\"M359.5,-306C359.5,-306 261.5,-306 261.5,-306 255.5,-306 249.5,-300 249.5,-294 249.5,-294 249.5,-235 249.5,-235 249.5,-229 255.5,-223 261.5,-223 261.5,-223 359.5,-223 359.5,-223 365.5,-223 371.5,-229 371.5,-235 371.5,-235 371.5,-294 371.5,-294 371.5,-300 365.5,-306 359.5,-306\"/>\n<text text-anchor=\"middle\" x=\"310.5\" y=\"-290.8\" font-family=\"Helvetica,sans-Serif\" font-size=\"14.00\" fill=\"#000000\">WISP1 &lt;= 0.246</text>\n<text text-anchor=\"middle\" x=\"310.5\" y=\"-275.8\" font-family=\"Helvetica,sans-Serif\" font-size=\"14.00\" fill=\"#000000\">gini = 0.019</text>\n<text text-anchor=\"middle\" x=\"310.5\" y=\"-260.8\" font-family=\"Helvetica,sans-Serif\" font-size=\"14.00\" fill=\"#000000\">samples = 423</text>\n<text text-anchor=\"middle\" x=\"310.5\" y=\"-245.8\" font-family=\"Helvetica,sans-Serif\" font-size=\"14.00\" fill=\"#000000\">value = [4, 419]</text>\n<text text-anchor=\"middle\" x=\"310.5\" y=\"-230.8\" font-family=\"Helvetica,sans-Serif\" font-size=\"14.00\" fill=\"#000000\">class = 0</text>\n</g>\n<!-- 0&#45;&gt;4 -->\n<g id=\"edge4\" class=\"edge\">\n<title>0&#45;&gt;4</title>\n<path fill=\"none\" stroke=\"#000000\" d=\"M264.9826,-341.8796C270.0685,-333.2335 275.4811,-324.0322 280.7328,-315.1042\"/>\n<polygon fill=\"#000000\" stroke=\"#000000\" points=\"283.8594,-316.692 285.9129,-306.2981 277.8259,-313.1428 283.8594,-316.692\"/>\n<text text-anchor=\"middle\" x=\"292.187\" y=\"-326.798\" font-family=\"Helvetica,sans-Serif\" font-size=\"14.00\" fill=\"#000000\">False</text>\n</g>\n<!-- 2 -->\n<g id=\"node3\" class=\"node\">\n<title>2</title>\n<path fill=\"#399de5\" stroke=\"#000000\" d=\"M87,-179.5C87,-179.5 12,-179.5 12,-179.5 6,-179.5 0,-173.5 0,-167.5 0,-167.5 0,-123.5 0,-123.5 0,-117.5 6,-111.5 12,-111.5 12,-111.5 87,-111.5 87,-111.5 93,-111.5 99,-117.5 99,-123.5 99,-123.5 99,-167.5 99,-167.5 99,-173.5 93,-179.5 87,-179.5\"/>\n<text text-anchor=\"middle\" x=\"49.5\" y=\"-164.3\" font-family=\"Helvetica,sans-Serif\" font-size=\"14.00\" fill=\"#000000\">gini = 0.0</text>\n<text text-anchor=\"middle\" x=\"49.5\" y=\"-149.3\" font-family=\"Helvetica,sans-Serif\" font-size=\"14.00\" fill=\"#000000\">samples = 4</text>\n<text text-anchor=\"middle\" x=\"49.5\" y=\"-134.3\" font-family=\"Helvetica,sans-Serif\" font-size=\"14.00\" fill=\"#000000\">value = [0, 4]</text>\n<text text-anchor=\"middle\" x=\"49.5\" y=\"-119.3\" font-family=\"Helvetica,sans-Serif\" font-size=\"14.00\" fill=\"#000000\">class = 0</text>\n</g>\n<!-- 1&#45;&gt;2 -->\n<g id=\"edge2\" class=\"edge\">\n<title>1&#45;&gt;2</title>\n<path fill=\"none\" stroke=\"#000000\" d=\"M128.1801,-222.8796C116.3283,-211.2237 103.4505,-198.5587 91.6109,-186.9148\"/>\n<polygon fill=\"#000000\" stroke=\"#000000\" points=\"93.9756,-184.3314 84.3917,-179.8149 89.0673,-189.3223 93.9756,-184.3314\"/>\n</g>\n<!-- 3 -->\n<g id=\"node4\" class=\"node\">\n<title>3</title>\n<path fill=\"#e58139\" stroke=\"#000000\" d=\"M212,-179.5C212,-179.5 129,-179.5 129,-179.5 123,-179.5 117,-173.5 117,-167.5 117,-167.5 117,-123.5 117,-123.5 117,-117.5 123,-111.5 129,-111.5 129,-111.5 212,-111.5 212,-111.5 218,-111.5 224,-117.5 224,-123.5 224,-123.5 224,-167.5 224,-167.5 224,-173.5 218,-179.5 212,-179.5\"/>\n<text text-anchor=\"middle\" x=\"170.5\" y=\"-164.3\" font-family=\"Helvetica,sans-Serif\" font-size=\"14.00\" fill=\"#000000\">gini = 0.0</text>\n<text text-anchor=\"middle\" x=\"170.5\" y=\"-149.3\" font-family=\"Helvetica,sans-Serif\" font-size=\"14.00\" fill=\"#000000\">samples = 45</text>\n<text text-anchor=\"middle\" x=\"170.5\" y=\"-134.3\" font-family=\"Helvetica,sans-Serif\" font-size=\"14.00\" fill=\"#000000\">value = [45, 0]</text>\n<text text-anchor=\"middle\" x=\"170.5\" y=\"-119.3\" font-family=\"Helvetica,sans-Serif\" font-size=\"14.00\" fill=\"#000000\">class = 1</text>\n</g>\n<!-- 1&#45;&gt;3 -->\n<g id=\"edge3\" class=\"edge\">\n<title>1&#45;&gt;3</title>\n<path fill=\"none\" stroke=\"#000000\" d=\"M170.5,-222.8796C170.5,-212.2134 170.5,-200.7021 170.5,-189.9015\"/>\n<polygon fill=\"#000000\" stroke=\"#000000\" points=\"174.0001,-189.8149 170.5,-179.8149 167.0001,-189.815 174.0001,-189.8149\"/>\n</g>\n<!-- 5 -->\n<g id=\"node6\" class=\"node\">\n<title>5</title>\n<path fill=\"#ffffff\" stroke=\"#000000\" d=\"M366.5,-187C366.5,-187 254.5,-187 254.5,-187 248.5,-187 242.5,-181 242.5,-175 242.5,-175 242.5,-116 242.5,-116 242.5,-110 248.5,-104 254.5,-104 254.5,-104 366.5,-104 366.5,-104 372.5,-104 378.5,-110 378.5,-116 378.5,-116 378.5,-175 378.5,-175 378.5,-181 372.5,-187 366.5,-187\"/>\n<text text-anchor=\"middle\" x=\"310.5\" y=\"-171.8\" font-family=\"Helvetica,sans-Serif\" font-size=\"14.00\" fill=\"#000000\">CCDC36 &lt;= 0.361</text>\n<text text-anchor=\"middle\" x=\"310.5\" y=\"-156.8\" font-family=\"Helvetica,sans-Serif\" font-size=\"14.00\" fill=\"#000000\">gini = 0.5</text>\n<text text-anchor=\"middle\" x=\"310.5\" y=\"-141.8\" font-family=\"Helvetica,sans-Serif\" font-size=\"14.00\" fill=\"#000000\">samples = 6</text>\n<text text-anchor=\"middle\" x=\"310.5\" y=\"-126.8\" font-family=\"Helvetica,sans-Serif\" font-size=\"14.00\" fill=\"#000000\">value = [3, 3]</text>\n<text text-anchor=\"middle\" x=\"310.5\" y=\"-111.8\" font-family=\"Helvetica,sans-Serif\" font-size=\"14.00\" fill=\"#000000\">class = 1</text>\n</g>\n<!-- 4&#45;&gt;5 -->\n<g id=\"edge5\" class=\"edge\">\n<title>4&#45;&gt;5</title>\n<path fill=\"none\" stroke=\"#000000\" d=\"M310.5,-222.8796C310.5,-214.6838 310.5,-205.9891 310.5,-197.5013\"/>\n<polygon fill=\"#000000\" stroke=\"#000000\" points=\"314.0001,-197.298 310.5,-187.2981 307.0001,-197.2981 314.0001,-197.298\"/>\n</g>\n<!-- 8 -->\n<g id=\"node9\" class=\"node\">\n<title>8</title>\n<path fill=\"#399de5\" stroke=\"#000000\" d=\"M500.5,-187C500.5,-187 408.5,-187 408.5,-187 402.5,-187 396.5,-181 396.5,-175 396.5,-175 396.5,-116 396.5,-116 396.5,-110 402.5,-104 408.5,-104 408.5,-104 500.5,-104 500.5,-104 506.5,-104 512.5,-110 512.5,-116 512.5,-116 512.5,-175 512.5,-175 512.5,-181 506.5,-187 500.5,-187\"/>\n<text text-anchor=\"middle\" x=\"454.5\" y=\"-171.8\" font-family=\"Helvetica,sans-Serif\" font-size=\"14.00\" fill=\"#000000\">CA4 &lt;= 0.774</text>\n<text text-anchor=\"middle\" x=\"454.5\" y=\"-156.8\" font-family=\"Helvetica,sans-Serif\" font-size=\"14.00\" fill=\"#000000\">gini = 0.005</text>\n<text text-anchor=\"middle\" x=\"454.5\" y=\"-141.8\" font-family=\"Helvetica,sans-Serif\" font-size=\"14.00\" fill=\"#000000\">samples = 417</text>\n<text text-anchor=\"middle\" x=\"454.5\" y=\"-126.8\" font-family=\"Helvetica,sans-Serif\" font-size=\"14.00\" fill=\"#000000\">value = [1, 416]</text>\n<text text-anchor=\"middle\" x=\"454.5\" y=\"-111.8\" font-family=\"Helvetica,sans-Serif\" font-size=\"14.00\" fill=\"#000000\">class = 0</text>\n</g>\n<!-- 4&#45;&gt;8 -->\n<g id=\"edge8\" class=\"edge\">\n<title>4&#45;&gt;8</title>\n<path fill=\"none\" stroke=\"#000000\" d=\"M360.8642,-222.8796C372.1985,-213.513 384.3215,-203.4948 395.9581,-193.8784\"/>\n<polygon fill=\"#000000\" stroke=\"#000000\" points=\"398.4419,-196.3663 403.9208,-187.2981 393.9827,-190.9703 398.4419,-196.3663\"/>\n</g>\n<!-- 6 -->\n<g id=\"node7\" class=\"node\">\n<title>6</title>\n<path fill=\"#399de5\" stroke=\"#000000\" d=\"M235,-68C235,-68 160,-68 160,-68 154,-68 148,-62 148,-56 148,-56 148,-12 148,-12 148,-6 154,0 160,0 160,0 235,0 235,0 241,0 247,-6 247,-12 247,-12 247,-56 247,-56 247,-62 241,-68 235,-68\"/>\n<text text-anchor=\"middle\" x=\"197.5\" y=\"-52.8\" font-family=\"Helvetica,sans-Serif\" font-size=\"14.00\" fill=\"#000000\">gini = 0.0</text>\n<text text-anchor=\"middle\" x=\"197.5\" y=\"-37.8\" font-family=\"Helvetica,sans-Serif\" font-size=\"14.00\" fill=\"#000000\">samples = 3</text>\n<text text-anchor=\"middle\" x=\"197.5\" y=\"-22.8\" font-family=\"Helvetica,sans-Serif\" font-size=\"14.00\" fill=\"#000000\">value = [0, 3]</text>\n<text text-anchor=\"middle\" x=\"197.5\" y=\"-7.8\" font-family=\"Helvetica,sans-Serif\" font-size=\"14.00\" fill=\"#000000\">class = 0</text>\n</g>\n<!-- 5&#45;&gt;6 -->\n<g id=\"edge6\" class=\"edge\">\n<title>5&#45;&gt;6</title>\n<path fill=\"none\" stroke=\"#000000\" d=\"M268.423,-103.9815C258.9224,-94.607 248.8387,-84.6572 239.3476,-75.2921\"/>\n<polygon fill=\"#000000\" stroke=\"#000000\" points=\"241.8011,-72.796 232.2246,-68.2637 236.8845,-77.7787 241.8011,-72.796\"/>\n</g>\n<!-- 7 -->\n<g id=\"node8\" class=\"node\">\n<title>7</title>\n<path fill=\"#e58139\" stroke=\"#000000\" d=\"M352,-68C352,-68 277,-68 277,-68 271,-68 265,-62 265,-56 265,-56 265,-12 265,-12 265,-6 271,0 277,0 277,0 352,0 352,0 358,0 364,-6 364,-12 364,-12 364,-56 364,-56 364,-62 358,-68 352,-68\"/>\n<text text-anchor=\"middle\" x=\"314.5\" y=\"-52.8\" font-family=\"Helvetica,sans-Serif\" font-size=\"14.00\" fill=\"#000000\">gini = 0.0</text>\n<text text-anchor=\"middle\" x=\"314.5\" y=\"-37.8\" font-family=\"Helvetica,sans-Serif\" font-size=\"14.00\" fill=\"#000000\">samples = 3</text>\n<text text-anchor=\"middle\" x=\"314.5\" y=\"-22.8\" font-family=\"Helvetica,sans-Serif\" font-size=\"14.00\" fill=\"#000000\">value = [3, 0]</text>\n<text text-anchor=\"middle\" x=\"314.5\" y=\"-7.8\" font-family=\"Helvetica,sans-Serif\" font-size=\"14.00\" fill=\"#000000\">class = 1</text>\n</g>\n<!-- 5&#45;&gt;7 -->\n<g id=\"edge7\" class=\"edge\">\n<title>5&#45;&gt;7</title>\n<path fill=\"none\" stroke=\"#000000\" d=\"M311.9895,-103.9815C312.2895,-95.618 312.606,-86.7965 312.9093,-78.3409\"/>\n<polygon fill=\"#000000\" stroke=\"#000000\" points=\"316.41,-78.3828 313.2708,-68.2637 309.4145,-78.1317 316.41,-78.3828\"/>\n</g>\n<!-- 9 -->\n<g id=\"node10\" class=\"node\">\n<title>9</title>\n<path fill=\"#399de5\" stroke=\"#000000\" d=\"M495.5,-68C495.5,-68 403.5,-68 403.5,-68 397.5,-68 391.5,-62 391.5,-56 391.5,-56 391.5,-12 391.5,-12 391.5,-6 397.5,0 403.5,0 403.5,0 495.5,0 495.5,0 501.5,0 507.5,-6 507.5,-12 507.5,-12 507.5,-56 507.5,-56 507.5,-62 501.5,-68 495.5,-68\"/>\n<text text-anchor=\"middle\" x=\"449.5\" y=\"-52.8\" font-family=\"Helvetica,sans-Serif\" font-size=\"14.00\" fill=\"#000000\">gini = 0.0</text>\n<text text-anchor=\"middle\" x=\"449.5\" y=\"-37.8\" font-family=\"Helvetica,sans-Serif\" font-size=\"14.00\" fill=\"#000000\">samples = 416</text>\n<text text-anchor=\"middle\" x=\"449.5\" y=\"-22.8\" font-family=\"Helvetica,sans-Serif\" font-size=\"14.00\" fill=\"#000000\">value = [0, 416]</text>\n<text text-anchor=\"middle\" x=\"449.5\" y=\"-7.8\" font-family=\"Helvetica,sans-Serif\" font-size=\"14.00\" fill=\"#000000\">class = 0</text>\n</g>\n<!-- 8&#45;&gt;9 -->\n<g id=\"edge9\" class=\"edge\">\n<title>8&#45;&gt;9</title>\n<path fill=\"none\" stroke=\"#000000\" d=\"M452.6382,-103.9815C452.2631,-95.618 451.8676,-86.7965 451.4884,-78.3409\"/>\n<polygon fill=\"#000000\" stroke=\"#000000\" points=\"454.981,-78.0968 451.0365,-68.2637 447.9881,-78.4105 454.981,-78.0968\"/>\n</g>\n<!-- 10 -->\n<g id=\"node11\" class=\"node\">\n<title>10</title>\n<path fill=\"#e58139\" stroke=\"#000000\" d=\"M613,-68C613,-68 538,-68 538,-68 532,-68 526,-62 526,-56 526,-56 526,-12 526,-12 526,-6 532,0 538,0 538,0 613,0 613,0 619,0 625,-6 625,-12 625,-12 625,-56 625,-56 625,-62 619,-68 613,-68\"/>\n<text text-anchor=\"middle\" x=\"575.5\" y=\"-52.8\" font-family=\"Helvetica,sans-Serif\" font-size=\"14.00\" fill=\"#000000\">gini = 0.0</text>\n<text text-anchor=\"middle\" x=\"575.5\" y=\"-37.8\" font-family=\"Helvetica,sans-Serif\" font-size=\"14.00\" fill=\"#000000\">samples = 1</text>\n<text text-anchor=\"middle\" x=\"575.5\" y=\"-22.8\" font-family=\"Helvetica,sans-Serif\" font-size=\"14.00\" fill=\"#000000\">value = [1, 0]</text>\n<text text-anchor=\"middle\" x=\"575.5\" y=\"-7.8\" font-family=\"Helvetica,sans-Serif\" font-size=\"14.00\" fill=\"#000000\">class = 1</text>\n</g>\n<!-- 8&#45;&gt;10 -->\n<g id=\"edge10\" class=\"edge\">\n<title>8&#45;&gt;10</title>\n<path fill=\"none\" stroke=\"#000000\" d=\"M499.5559,-103.9815C509.7291,-94.607 520.5267,-84.6572 530.6898,-75.2921\"/>\n<polygon fill=\"#000000\" stroke=\"#000000\" points=\"533.3349,-77.6141 538.317,-68.2637 528.5913,-72.4663 533.3349,-77.6141\"/>\n</g>\n</g>\n</svg>\n"
          },
          "metadata": {},
          "execution_count": 88
        }
      ]
    },
    {
      "cell_type": "code",
      "source": [
        "pred = dt.predict(x_test.loc[:,svc_rfe])\n",
        "\n",
        "print(classification_report(y_test, pred)) # 성능 100퍼센트.. "
      ],
      "metadata": {
        "colab": {
          "base_uri": "https://localhost:8080/"
        },
        "id": "cREwv02BjGFS",
        "outputId": "f5fd724c-9353-496e-8ef5-a6510f7a92d1"
      },
      "execution_count": null,
      "outputs": [
        {
          "output_type": "stream",
          "name": "stdout",
          "text": [
            "              precision    recall  f1-score   support\n",
            "\n",
            "         0.0       1.00      1.00      1.00        12\n",
            "         1.0       1.00      1.00      1.00       106\n",
            "\n",
            "    accuracy                           1.00       118\n",
            "   macro avg       1.00      1.00      1.00       118\n",
            "weighted avg       1.00      1.00      1.00       118\n",
            "\n"
          ]
        }
      ]
    },
    {
      "cell_type": "code",
      "source": [
        "bc_RNA.append('label')"
      ],
      "metadata": {
        "id": "hD8_giSMmcSp"
      },
      "execution_count": null,
      "outputs": []
    },
    {
      "cell_type": "code",
      "source": [
        "bc_RNA_df = pd.DataFrame(data_scale[bc_RNA].groupby(['label']).mean().transpose())\n",
        "bc_RNA_df.columns = ['normal','tumor']"
      ],
      "metadata": {
        "id": "tKEK2SsulFnQ"
      },
      "execution_count": null,
      "outputs": []
    },
    {
      "cell_type": "code",
      "source": [
        "# tumor rna / normal rna\n",
        "tumor_rna = bc_RNA_df.loc[bc_RNA_df.tumor > bc_RNA_df.normal, ].index\n",
        "normal_rna = bc_RNA_df.loc[bc_RNA_df.tumor < bc_RNA_df.normal, ].index\n",
        "print(len(tumor_rna),\" \",len(normal_rna))"
      ],
      "metadata": {
        "colab": {
          "base_uri": "https://localhost:8080/"
        },
        "id": "kf2YiY2Ay_hz",
        "outputId": "5440249b-253e-47f6-e4c5-fd5ff65512ab"
      },
      "execution_count": null,
      "outputs": [
        {
          "output_type": "stream",
          "name": "stdout",
          "text": [
            "20   25\n"
          ]
        }
      ]
    },
    {
      "cell_type": "code",
      "source": [
        "bc_RNA_df.head(10)"
      ],
      "metadata": {
        "id": "dhT5dt5gBBtB",
        "colab": {
          "base_uri": "https://localhost:8080/",
          "height": 359
        },
        "outputId": "84f48476-47ae-4d65-d639-ec9aa348a4cc"
      },
      "execution_count": null,
      "outputs": [
        {
          "output_type": "execute_result",
          "data": {
            "text/plain": [
              "            normal     tumor\n",
              "TPX2      0.171768  0.573984\n",
              "CXCL3     0.631269  0.249362\n",
              "RDH5      0.703540  0.245988\n",
              "AKR1C1    0.670749  0.288893\n",
              "CCDC36    0.517462  0.263567\n",
              "IGFBP6    0.686027  0.296151\n",
              "PAFAH1B3  0.343794  0.687291\n",
              "OAS2      0.261770  0.521305\n",
              "KIF4A     0.213486  0.600124\n",
              "SGK       0.669455  0.378022"
            ],
            "text/html": [
              "\n",
              "  <div id=\"df-4224f095-72e8-4952-80e5-511f028b8949\">\n",
              "    <div class=\"colab-df-container\">\n",
              "      <div>\n",
              "<style scoped>\n",
              "    .dataframe tbody tr th:only-of-type {\n",
              "        vertical-align: middle;\n",
              "    }\n",
              "\n",
              "    .dataframe tbody tr th {\n",
              "        vertical-align: top;\n",
              "    }\n",
              "\n",
              "    .dataframe thead th {\n",
              "        text-align: right;\n",
              "    }\n",
              "</style>\n",
              "<table border=\"1\" class=\"dataframe\">\n",
              "  <thead>\n",
              "    <tr style=\"text-align: right;\">\n",
              "      <th></th>\n",
              "      <th>normal</th>\n",
              "      <th>tumor</th>\n",
              "    </tr>\n",
              "  </thead>\n",
              "  <tbody>\n",
              "    <tr>\n",
              "      <th>TPX2</th>\n",
              "      <td>0.171768</td>\n",
              "      <td>0.573984</td>\n",
              "    </tr>\n",
              "    <tr>\n",
              "      <th>CXCL3</th>\n",
              "      <td>0.631269</td>\n",
              "      <td>0.249362</td>\n",
              "    </tr>\n",
              "    <tr>\n",
              "      <th>RDH5</th>\n",
              "      <td>0.703540</td>\n",
              "      <td>0.245988</td>\n",
              "    </tr>\n",
              "    <tr>\n",
              "      <th>AKR1C1</th>\n",
              "      <td>0.670749</td>\n",
              "      <td>0.288893</td>\n",
              "    </tr>\n",
              "    <tr>\n",
              "      <th>CCDC36</th>\n",
              "      <td>0.517462</td>\n",
              "      <td>0.263567</td>\n",
              "    </tr>\n",
              "    <tr>\n",
              "      <th>IGFBP6</th>\n",
              "      <td>0.686027</td>\n",
              "      <td>0.296151</td>\n",
              "    </tr>\n",
              "    <tr>\n",
              "      <th>PAFAH1B3</th>\n",
              "      <td>0.343794</td>\n",
              "      <td>0.687291</td>\n",
              "    </tr>\n",
              "    <tr>\n",
              "      <th>OAS2</th>\n",
              "      <td>0.261770</td>\n",
              "      <td>0.521305</td>\n",
              "    </tr>\n",
              "    <tr>\n",
              "      <th>KIF4A</th>\n",
              "      <td>0.213486</td>\n",
              "      <td>0.600124</td>\n",
              "    </tr>\n",
              "    <tr>\n",
              "      <th>SGK</th>\n",
              "      <td>0.669455</td>\n",
              "      <td>0.378022</td>\n",
              "    </tr>\n",
              "  </tbody>\n",
              "</table>\n",
              "</div>\n",
              "      <button class=\"colab-df-convert\" onclick=\"convertToInteractive('df-4224f095-72e8-4952-80e5-511f028b8949')\"\n",
              "              title=\"Convert this dataframe to an interactive table.\"\n",
              "              style=\"display:none;\">\n",
              "        \n",
              "  <svg xmlns=\"http://www.w3.org/2000/svg\" height=\"24px\"viewBox=\"0 0 24 24\"\n",
              "       width=\"24px\">\n",
              "    <path d=\"M0 0h24v24H0V0z\" fill=\"none\"/>\n",
              "    <path d=\"M18.56 5.44l.94 2.06.94-2.06 2.06-.94-2.06-.94-.94-2.06-.94 2.06-2.06.94zm-11 1L8.5 8.5l.94-2.06 2.06-.94-2.06-.94L8.5 2.5l-.94 2.06-2.06.94zm10 10l.94 2.06.94-2.06 2.06-.94-2.06-.94-.94-2.06-.94 2.06-2.06.94z\"/><path d=\"M17.41 7.96l-1.37-1.37c-.4-.4-.92-.59-1.43-.59-.52 0-1.04.2-1.43.59L10.3 9.45l-7.72 7.72c-.78.78-.78 2.05 0 2.83L4 21.41c.39.39.9.59 1.41.59.51 0 1.02-.2 1.41-.59l7.78-7.78 2.81-2.81c.8-.78.8-2.07 0-2.86zM5.41 20L4 18.59l7.72-7.72 1.47 1.35L5.41 20z\"/>\n",
              "  </svg>\n",
              "      </button>\n",
              "      \n",
              "  <style>\n",
              "    .colab-df-container {\n",
              "      display:flex;\n",
              "      flex-wrap:wrap;\n",
              "      gap: 12px;\n",
              "    }\n",
              "\n",
              "    .colab-df-convert {\n",
              "      background-color: #E8F0FE;\n",
              "      border: none;\n",
              "      border-radius: 50%;\n",
              "      cursor: pointer;\n",
              "      display: none;\n",
              "      fill: #1967D2;\n",
              "      height: 32px;\n",
              "      padding: 0 0 0 0;\n",
              "      width: 32px;\n",
              "    }\n",
              "\n",
              "    .colab-df-convert:hover {\n",
              "      background-color: #E2EBFA;\n",
              "      box-shadow: 0px 1px 2px rgba(60, 64, 67, 0.3), 0px 1px 3px 1px rgba(60, 64, 67, 0.15);\n",
              "      fill: #174EA6;\n",
              "    }\n",
              "\n",
              "    [theme=dark] .colab-df-convert {\n",
              "      background-color: #3B4455;\n",
              "      fill: #D2E3FC;\n",
              "    }\n",
              "\n",
              "    [theme=dark] .colab-df-convert:hover {\n",
              "      background-color: #434B5C;\n",
              "      box-shadow: 0px 1px 3px 1px rgba(0, 0, 0, 0.15);\n",
              "      filter: drop-shadow(0px 1px 2px rgba(0, 0, 0, 0.3));\n",
              "      fill: #FFFFFF;\n",
              "    }\n",
              "  </style>\n",
              "\n",
              "      <script>\n",
              "        const buttonEl =\n",
              "          document.querySelector('#df-4224f095-72e8-4952-80e5-511f028b8949 button.colab-df-convert');\n",
              "        buttonEl.style.display =\n",
              "          google.colab.kernel.accessAllowed ? 'block' : 'none';\n",
              "\n",
              "        async function convertToInteractive(key) {\n",
              "          const element = document.querySelector('#df-4224f095-72e8-4952-80e5-511f028b8949');\n",
              "          const dataTable =\n",
              "            await google.colab.kernel.invokeFunction('convertToInteractive',\n",
              "                                                     [key], {});\n",
              "          if (!dataTable) return;\n",
              "\n",
              "          const docLinkHtml = 'Like what you see? Visit the ' +\n",
              "            '<a target=\"_blank\" href=https://colab.research.google.com/notebooks/data_table.ipynb>data table notebook</a>'\n",
              "            + ' to learn more about interactive tables.';\n",
              "          element.innerHTML = '';\n",
              "          dataTable['output_type'] = 'display_data';\n",
              "          await google.colab.output.renderOutput(dataTable, element);\n",
              "          const docLink = document.createElement('div');\n",
              "          docLink.innerHTML = docLinkHtml;\n",
              "          element.appendChild(docLink);\n",
              "        }\n",
              "      </script>\n",
              "    </div>\n",
              "  </div>\n",
              "  "
            ]
          },
          "metadata": {},
          "execution_count": 93
        }
      ]
    },
    {
      "cell_type": "code",
      "source": [],
      "metadata": {
        "id": "l3VxB9syE--3"
      },
      "execution_count": null,
      "outputs": []
    }
  ]
}